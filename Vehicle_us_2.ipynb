{
 "cells": [
  {
   "cell_type": "markdown",
   "id": "9cb81999",
   "metadata": {},
   "source": [
    "Olá estudante!\n",
    "\n",
    "Me chamo Rafael Meirelles e irei revisar o seu projeto hoje e em eventuais futuras submissões até que ele cumpra todos os requisitos para o aceite.\n",
    "Conte comigo nessa jornada e não se preocupe se precisar ajustar alguns detalhes, é parte do processo e fundamental para que você exercite os conceitos que vem aprendendo e assim melhore a qualidade dos seus códigos e análises.\n",
    "\n",
    "Peço que mantenha e não altereos comentários que eu fizer por aqui para que possamos nos localizar posteriormente, ok?\n",
    "\n",
    "Mais uma coisa, vamos utilizar um código de cores para você entender os meus feedbacks no seu notebook. Funciona assim:"
   ]
  },
  {
   "cell_type": "markdown",
   "id": "6bc5d712",
   "metadata": {},
   "source": [
    "<div class=\"alert alert-danger\">\n",
    "<strong>Vermelho</strong>\n",
    "\n",
    "Erro que precisa ser consertado, caso contrário, seu projeto não pode ser aceito\n",
    "\n",
    "</div>"
   ]
  },
  {
   "cell_type": "markdown",
   "id": "b5eeaf19",
   "metadata": {},
   "source": [
    "<div class=\"alert alert-warning\">\n",
    "<strong>Amarelo</strong>\n",
    "\n",
    "Alerta de um erro não crítco, mas que pode ser corrigido para melhoria geral no seu código/análise\n",
    "\n",
    "</div>"
   ]
  },
  {
   "cell_type": "markdown",
   "id": "eb85a27a",
   "metadata": {},
   "source": [
    "<div class=\"alert alert-success\">\n",
    "<strong>Verde</strong>\n",
    "\n",
    "Elogios\n",
    "</div>"
   ]
  },
  {
   "cell_type": "markdown",
   "id": "354a74ab",
   "metadata": {},
   "source": [
    "<div class=\"alert alert-info\">\n",
    "<strong>Comentário do estudante</strong>\n",
    "\n",
    "Use uma caixa azul como essa para eventuais comentários que você gostaria de fazer para mim.\n",
    "</div>"
   ]
  },
  {
   "cell_type": "markdown",
   "id": "efb7ca67",
   "metadata": {},
   "source": [
    "Introdução\n",
    "\n",
    "Descrição do projeto\n",
    "\n",
    "De forma fictícia, sou analista na Lista de Eixo de Manivela. Centenas de propagandas gratuitas de veículos são publicadas no site todos os dias. Vou estudar os dados coletados nos últimos anos e determinar quais fatores influenciaram o preço de um veículo.\n",
    "\n",
    "Primeiro, vou estudar como os valores atípicos influenciam as diversas variáveis como: preço, idade do veículo, data que propaganda foi colocada e etc.\n",
    "\n",
    "Depois, vou trabalhar com um dataframe filtrado sem os valores atípicos e vou utilizar ele como base para comparar os seus resultados com o dataframe não filtrado.\n",
    "\n",
    "Por fim vou analisar o número de propagandas e o preço médio para cada modelo de veículo e identificar/estudar o que influenciou no preço dos veículos."
   ]
  },
  {
   "cell_type": "code",
   "execution_count": 1,
   "id": "bb485941-8bed-46c9-9bde-6873c7890f03",
   "metadata": {},
   "outputs": [],
   "source": [
    "#Importando biblioteca pandas, biblioteca matplotlib e seaborn para visualização de dados\n",
    "import pandas as pd\n",
    "import matplotlib.pyplot as plt\n",
    "import seaborn as sns\n"
   ]
  },
  {
   "cell_type": "markdown",
   "id": "01e44f27",
   "metadata": {},
   "source": [
    "<div class=\"alert alert-warning\">\n",
    "<strong>Comentário do revisor v1</strong>\n",
    "\n",
    "É importante trazer uma introdução que contextualize o problema que você está focando em atacar aqui\n",
    "</div>"
   ]
  },
  {
   "cell_type": "code",
   "execution_count": 2,
   "id": "d6ae545a-7b9a-407d-a8fb-20e95347b7a0",
   "metadata": {},
   "outputs": [],
   "source": [
    "#Carregando arquivo em CSV e definindo dentro da variável 'df'\n",
    "try: \n",
    "    df = pd.read_csv('vehicles_us.csv')\n",
    "except: \n",
    "    df = pd.read_csv('/datasets/vehicles_us.csv')"
   ]
  },
  {
   "cell_type": "code",
   "execution_count": 3,
   "id": "bdd22276-e222-4032-ba9e-3615c4821140",
   "metadata": {},
   "outputs": [
    {
     "name": "stdout",
     "output_type": "stream",
     "text": [
      "<class 'pandas.core.frame.DataFrame'>\n",
      "RangeIndex: 51525 entries, 0 to 51524\n",
      "Data columns (total 13 columns):\n",
      " #   Column        Non-Null Count  Dtype  \n",
      "---  ------        --------------  -----  \n",
      " 0   price         51525 non-null  int64  \n",
      " 1   model_year    47906 non-null  float64\n",
      " 2   model         51525 non-null  object \n",
      " 3   condition     51525 non-null  object \n",
      " 4   cylinders     46265 non-null  float64\n",
      " 5   fuel          51525 non-null  object \n",
      " 6   odometer      43633 non-null  float64\n",
      " 7   transmission  51525 non-null  object \n",
      " 8   type          51525 non-null  object \n",
      " 9   paint_color   42258 non-null  object \n",
      " 10  is_4wd        25572 non-null  float64\n",
      " 11  date_posted   51525 non-null  object \n",
      " 12  days_listed   51525 non-null  int64  \n",
      "dtypes: float64(4), int64(2), object(7)\n",
      "memory usage: 5.1+ MB\n"
     ]
    },
    {
     "data": {
      "text/html": [
       "<div>\n",
       "<style scoped>\n",
       "    .dataframe tbody tr th:only-of-type {\n",
       "        vertical-align: middle;\n",
       "    }\n",
       "\n",
       "    .dataframe tbody tr th {\n",
       "        vertical-align: top;\n",
       "    }\n",
       "\n",
       "    .dataframe thead th {\n",
       "        text-align: right;\n",
       "    }\n",
       "</style>\n",
       "<table border=\"1\" class=\"dataframe\">\n",
       "  <thead>\n",
       "    <tr style=\"text-align: right;\">\n",
       "      <th></th>\n",
       "      <th>price</th>\n",
       "      <th>model_year</th>\n",
       "      <th>model</th>\n",
       "      <th>condition</th>\n",
       "      <th>cylinders</th>\n",
       "      <th>fuel</th>\n",
       "      <th>odometer</th>\n",
       "      <th>transmission</th>\n",
       "      <th>type</th>\n",
       "      <th>paint_color</th>\n",
       "      <th>is_4wd</th>\n",
       "      <th>date_posted</th>\n",
       "      <th>days_listed</th>\n",
       "    </tr>\n",
       "  </thead>\n",
       "  <tbody>\n",
       "    <tr>\n",
       "      <th>0</th>\n",
       "      <td>9400</td>\n",
       "      <td>2011.0</td>\n",
       "      <td>bmw x5</td>\n",
       "      <td>good</td>\n",
       "      <td>6.0</td>\n",
       "      <td>gas</td>\n",
       "      <td>145000.0</td>\n",
       "      <td>automatic</td>\n",
       "      <td>SUV</td>\n",
       "      <td>NaN</td>\n",
       "      <td>1.0</td>\n",
       "      <td>2018-06-23</td>\n",
       "      <td>19</td>\n",
       "    </tr>\n",
       "    <tr>\n",
       "      <th>1</th>\n",
       "      <td>25500</td>\n",
       "      <td>NaN</td>\n",
       "      <td>ford f-150</td>\n",
       "      <td>good</td>\n",
       "      <td>6.0</td>\n",
       "      <td>gas</td>\n",
       "      <td>88705.0</td>\n",
       "      <td>automatic</td>\n",
       "      <td>pickup</td>\n",
       "      <td>white</td>\n",
       "      <td>1.0</td>\n",
       "      <td>2018-10-19</td>\n",
       "      <td>50</td>\n",
       "    </tr>\n",
       "    <tr>\n",
       "      <th>2</th>\n",
       "      <td>5500</td>\n",
       "      <td>2013.0</td>\n",
       "      <td>hyundai sonata</td>\n",
       "      <td>like new</td>\n",
       "      <td>4.0</td>\n",
       "      <td>gas</td>\n",
       "      <td>110000.0</td>\n",
       "      <td>automatic</td>\n",
       "      <td>sedan</td>\n",
       "      <td>red</td>\n",
       "      <td>NaN</td>\n",
       "      <td>2019-02-07</td>\n",
       "      <td>79</td>\n",
       "    </tr>\n",
       "    <tr>\n",
       "      <th>3</th>\n",
       "      <td>1500</td>\n",
       "      <td>2003.0</td>\n",
       "      <td>ford f-150</td>\n",
       "      <td>fair</td>\n",
       "      <td>8.0</td>\n",
       "      <td>gas</td>\n",
       "      <td>NaN</td>\n",
       "      <td>automatic</td>\n",
       "      <td>pickup</td>\n",
       "      <td>NaN</td>\n",
       "      <td>NaN</td>\n",
       "      <td>2019-03-22</td>\n",
       "      <td>9</td>\n",
       "    </tr>\n",
       "    <tr>\n",
       "      <th>4</th>\n",
       "      <td>14900</td>\n",
       "      <td>2017.0</td>\n",
       "      <td>chrysler 200</td>\n",
       "      <td>excellent</td>\n",
       "      <td>4.0</td>\n",
       "      <td>gas</td>\n",
       "      <td>80903.0</td>\n",
       "      <td>automatic</td>\n",
       "      <td>sedan</td>\n",
       "      <td>black</td>\n",
       "      <td>NaN</td>\n",
       "      <td>2019-04-02</td>\n",
       "      <td>28</td>\n",
       "    </tr>\n",
       "    <tr>\n",
       "      <th>5</th>\n",
       "      <td>14990</td>\n",
       "      <td>2014.0</td>\n",
       "      <td>chrysler 300</td>\n",
       "      <td>excellent</td>\n",
       "      <td>6.0</td>\n",
       "      <td>gas</td>\n",
       "      <td>57954.0</td>\n",
       "      <td>automatic</td>\n",
       "      <td>sedan</td>\n",
       "      <td>black</td>\n",
       "      <td>1.0</td>\n",
       "      <td>2018-06-20</td>\n",
       "      <td>15</td>\n",
       "    </tr>\n",
       "    <tr>\n",
       "      <th>6</th>\n",
       "      <td>12990</td>\n",
       "      <td>2015.0</td>\n",
       "      <td>toyota camry</td>\n",
       "      <td>excellent</td>\n",
       "      <td>4.0</td>\n",
       "      <td>gas</td>\n",
       "      <td>79212.0</td>\n",
       "      <td>automatic</td>\n",
       "      <td>sedan</td>\n",
       "      <td>white</td>\n",
       "      <td>NaN</td>\n",
       "      <td>2018-12-27</td>\n",
       "      <td>73</td>\n",
       "    </tr>\n",
       "    <tr>\n",
       "      <th>7</th>\n",
       "      <td>15990</td>\n",
       "      <td>2013.0</td>\n",
       "      <td>honda pilot</td>\n",
       "      <td>excellent</td>\n",
       "      <td>6.0</td>\n",
       "      <td>gas</td>\n",
       "      <td>109473.0</td>\n",
       "      <td>automatic</td>\n",
       "      <td>SUV</td>\n",
       "      <td>black</td>\n",
       "      <td>1.0</td>\n",
       "      <td>2019-01-07</td>\n",
       "      <td>68</td>\n",
       "    </tr>\n",
       "    <tr>\n",
       "      <th>8</th>\n",
       "      <td>11500</td>\n",
       "      <td>2012.0</td>\n",
       "      <td>kia sorento</td>\n",
       "      <td>excellent</td>\n",
       "      <td>4.0</td>\n",
       "      <td>gas</td>\n",
       "      <td>104174.0</td>\n",
       "      <td>automatic</td>\n",
       "      <td>SUV</td>\n",
       "      <td>NaN</td>\n",
       "      <td>1.0</td>\n",
       "      <td>2018-07-16</td>\n",
       "      <td>19</td>\n",
       "    </tr>\n",
       "    <tr>\n",
       "      <th>9</th>\n",
       "      <td>9200</td>\n",
       "      <td>2008.0</td>\n",
       "      <td>honda pilot</td>\n",
       "      <td>excellent</td>\n",
       "      <td>NaN</td>\n",
       "      <td>gas</td>\n",
       "      <td>147191.0</td>\n",
       "      <td>automatic</td>\n",
       "      <td>SUV</td>\n",
       "      <td>blue</td>\n",
       "      <td>1.0</td>\n",
       "      <td>2019-02-15</td>\n",
       "      <td>17</td>\n",
       "    </tr>\n",
       "  </tbody>\n",
       "</table>\n",
       "</div>"
      ],
      "text/plain": [
       "   price  model_year           model  condition  cylinders fuel  odometer  \\\n",
       "0   9400      2011.0          bmw x5       good        6.0  gas  145000.0   \n",
       "1  25500         NaN      ford f-150       good        6.0  gas   88705.0   \n",
       "2   5500      2013.0  hyundai sonata   like new        4.0  gas  110000.0   \n",
       "3   1500      2003.0      ford f-150       fair        8.0  gas       NaN   \n",
       "4  14900      2017.0    chrysler 200  excellent        4.0  gas   80903.0   \n",
       "5  14990      2014.0    chrysler 300  excellent        6.0  gas   57954.0   \n",
       "6  12990      2015.0    toyota camry  excellent        4.0  gas   79212.0   \n",
       "7  15990      2013.0     honda pilot  excellent        6.0  gas  109473.0   \n",
       "8  11500      2012.0     kia sorento  excellent        4.0  gas  104174.0   \n",
       "9   9200      2008.0     honda pilot  excellent        NaN  gas  147191.0   \n",
       "\n",
       "  transmission    type paint_color  is_4wd date_posted  days_listed  \n",
       "0    automatic     SUV         NaN     1.0  2018-06-23           19  \n",
       "1    automatic  pickup       white     1.0  2018-10-19           50  \n",
       "2    automatic   sedan         red     NaN  2019-02-07           79  \n",
       "3    automatic  pickup         NaN     NaN  2019-03-22            9  \n",
       "4    automatic   sedan       black     NaN  2019-04-02           28  \n",
       "5    automatic   sedan       black     1.0  2018-06-20           15  \n",
       "6    automatic   sedan       white     NaN  2018-12-27           73  \n",
       "7    automatic     SUV       black     1.0  2019-01-07           68  \n",
       "8    automatic     SUV         NaN     1.0  2018-07-16           19  \n",
       "9    automatic     SUV        blue     1.0  2019-02-15           17  "
      ]
     },
     "execution_count": 3,
     "metadata": {},
     "output_type": "execute_result"
    }
   ],
   "source": [
    "#Visualizando informações gerais do 'df'\n",
    "df.info()\n",
    "df.head(10)"
   ]
  },
  {
   "cell_type": "code",
   "execution_count": 4,
   "id": "91e5cb19",
   "metadata": {},
   "outputs": [
    {
     "data": {
      "text/html": [
       "<div>\n",
       "<style scoped>\n",
       "    .dataframe tbody tr th:only-of-type {\n",
       "        vertical-align: middle;\n",
       "    }\n",
       "\n",
       "    .dataframe tbody tr th {\n",
       "        vertical-align: top;\n",
       "    }\n",
       "\n",
       "    .dataframe thead th {\n",
       "        text-align: right;\n",
       "    }\n",
       "</style>\n",
       "<table border=\"1\" class=\"dataframe\">\n",
       "  <thead>\n",
       "    <tr style=\"text-align: right;\">\n",
       "      <th></th>\n",
       "      <th>price</th>\n",
       "      <th>model_year</th>\n",
       "      <th>cylinders</th>\n",
       "      <th>odometer</th>\n",
       "      <th>is_4wd</th>\n",
       "      <th>days_listed</th>\n",
       "    </tr>\n",
       "  </thead>\n",
       "  <tbody>\n",
       "    <tr>\n",
       "      <th>count</th>\n",
       "      <td>51525.000000</td>\n",
       "      <td>47906.000000</td>\n",
       "      <td>46265.000000</td>\n",
       "      <td>43633.000000</td>\n",
       "      <td>25572.0</td>\n",
       "      <td>51525.00000</td>\n",
       "    </tr>\n",
       "    <tr>\n",
       "      <th>mean</th>\n",
       "      <td>12132.464920</td>\n",
       "      <td>2009.750470</td>\n",
       "      <td>6.125235</td>\n",
       "      <td>115553.461738</td>\n",
       "      <td>1.0</td>\n",
       "      <td>39.55476</td>\n",
       "    </tr>\n",
       "    <tr>\n",
       "      <th>std</th>\n",
       "      <td>10040.803015</td>\n",
       "      <td>6.282065</td>\n",
       "      <td>1.660360</td>\n",
       "      <td>65094.611341</td>\n",
       "      <td>0.0</td>\n",
       "      <td>28.20427</td>\n",
       "    </tr>\n",
       "    <tr>\n",
       "      <th>min</th>\n",
       "      <td>1.000000</td>\n",
       "      <td>1908.000000</td>\n",
       "      <td>3.000000</td>\n",
       "      <td>0.000000</td>\n",
       "      <td>1.0</td>\n",
       "      <td>0.00000</td>\n",
       "    </tr>\n",
       "    <tr>\n",
       "      <th>25%</th>\n",
       "      <td>5000.000000</td>\n",
       "      <td>2006.000000</td>\n",
       "      <td>4.000000</td>\n",
       "      <td>70000.000000</td>\n",
       "      <td>1.0</td>\n",
       "      <td>19.00000</td>\n",
       "    </tr>\n",
       "    <tr>\n",
       "      <th>50%</th>\n",
       "      <td>9000.000000</td>\n",
       "      <td>2011.000000</td>\n",
       "      <td>6.000000</td>\n",
       "      <td>113000.000000</td>\n",
       "      <td>1.0</td>\n",
       "      <td>33.00000</td>\n",
       "    </tr>\n",
       "    <tr>\n",
       "      <th>75%</th>\n",
       "      <td>16839.000000</td>\n",
       "      <td>2014.000000</td>\n",
       "      <td>8.000000</td>\n",
       "      <td>155000.000000</td>\n",
       "      <td>1.0</td>\n",
       "      <td>53.00000</td>\n",
       "    </tr>\n",
       "    <tr>\n",
       "      <th>max</th>\n",
       "      <td>375000.000000</td>\n",
       "      <td>2019.000000</td>\n",
       "      <td>12.000000</td>\n",
       "      <td>990000.000000</td>\n",
       "      <td>1.0</td>\n",
       "      <td>271.00000</td>\n",
       "    </tr>\n",
       "  </tbody>\n",
       "</table>\n",
       "</div>"
      ],
      "text/plain": [
       "               price    model_year     cylinders       odometer   is_4wd  \\\n",
       "count   51525.000000  47906.000000  46265.000000   43633.000000  25572.0   \n",
       "mean    12132.464920   2009.750470      6.125235  115553.461738      1.0   \n",
       "std     10040.803015      6.282065      1.660360   65094.611341      0.0   \n",
       "min         1.000000   1908.000000      3.000000       0.000000      1.0   \n",
       "25%      5000.000000   2006.000000      4.000000   70000.000000      1.0   \n",
       "50%      9000.000000   2011.000000      6.000000  113000.000000      1.0   \n",
       "75%     16839.000000   2014.000000      8.000000  155000.000000      1.0   \n",
       "max    375000.000000   2019.000000     12.000000  990000.000000      1.0   \n",
       "\n",
       "       days_listed  \n",
       "count  51525.00000  \n",
       "mean      39.55476  \n",
       "std       28.20427  \n",
       "min        0.00000  \n",
       "25%       19.00000  \n",
       "50%       33.00000  \n",
       "75%       53.00000  \n",
       "max      271.00000  "
      ]
     },
     "execution_count": 4,
     "metadata": {},
     "output_type": "execute_result"
    }
   ],
   "source": [
    "#Visualizando informações com o método 'describe()'\n",
    "df.describe()"
   ]
  },
  {
   "cell_type": "markdown",
   "id": "d231d23c",
   "metadata": {},
   "source": [
    "<div class=\"alert alert-warning\">\n",
    "<strong>Comentário do revisor v1</strong>\n",
    "\n",
    "Bom trabalho usando head e info(), mas seria interessante utilizar o describe() para avaliar a distribuição das variáveis\n",
    "</div>"
   ]
  },
  {
   "cell_type": "code",
   "execution_count": 5,
   "id": "0517fdac-c257-48e7-a628-29b88c36b2bc",
   "metadata": {},
   "outputs": [
    {
     "data": {
      "text/plain": [
       "0"
      ]
     },
     "execution_count": 5,
     "metadata": {},
     "output_type": "execute_result"
    }
   ],
   "source": [
    "#Verificando valores duplicados\n",
    "#É possível que não tenhamos valores duplicados, visto que os carros não tem ID, então podem ser carros com as mesmas características, mas diferentes entre si.\n",
    "df.duplicated().sum()"
   ]
  },
  {
   "cell_type": "markdown",
   "id": "d8260cd7-1639-4e68-b811-980ccd90c6cf",
   "metadata": {},
   "source": [
    "Possíveis razões da tabela conter valores ausentes:\n",
    "\n",
    "1 - Anúncios sem foto do carro, o que dificulta a identificação da cor.\n",
    "\n",
    "2 - Erro na leitura de certos dados.\n",
    "\n",
    "3 - Carros sem a documentação correta, o que dificulta a identificação do ano de fabricação e cilindragem.\n",
    "\n",
    "4 - Carros com odômetro zerado manualmente pelo vendedor para facilitar a venda do veículo.\n"
   ]
  },
  {
   "cell_type": "markdown",
   "id": "31e80c4a",
   "metadata": {},
   "source": [
    "<div class=\"alert alert-success\">\n",
    "<strong>Comentário do revisor v1</strong>\n",
    "\n",
    "Boas hipóteses\n",
    "</div>"
   ]
  },
  {
   "cell_type": "code",
   "execution_count": 6,
   "id": "84cf2523-2803-48cc-8b8a-409da13924e3",
   "metadata": {},
   "outputs": [],
   "source": [
    "#Investigando valores ausentes \n",
    "df_model_valores_ausentes = df.isna().sum()\n",
    "\n"
   ]
  },
  {
   "cell_type": "code",
   "execution_count": 7,
   "id": "347e1b94-d928-493c-8a83-cf4749f2ca8e",
   "metadata": {},
   "outputs": [
    {
     "data": {
      "text/plain": [
       "price           0.000000\n",
       "model_year      0.070238\n",
       "model           0.000000\n",
       "condition       0.000000\n",
       "cylinders       0.102086\n",
       "fuel            0.000000\n",
       "odometer        0.153168\n",
       "transmission    0.000000\n",
       "type            0.000000\n",
       "paint_color     0.179854\n",
       "is_4wd          0.503697\n",
       "date_posted     0.000000\n",
       "days_listed     0.000000\n",
       "dtype: float64"
      ]
     },
     "execution_count": 7,
     "metadata": {},
     "output_type": "execute_result"
    }
   ],
   "source": [
    "#Verificando a porcentagem de valores ausentes para definir próximos passos\n",
    "df_model_valores_ausentes/df['model_year'].size"
   ]
  },
  {
   "cell_type": "code",
   "execution_count": 8,
   "id": "41994fa7-914c-4bda-ad21-cbf05acc702e",
   "metadata": {},
   "outputs": [
    {
     "data": {
      "text/plain": [
       "1.0    25572\n",
       "Name: is_4wd, dtype: int64"
      ]
     },
     "execution_count": 8,
     "metadata": {},
     "output_type": "execute_result"
    }
   ],
   "source": [
    "#De uma forma geral, parece que os valores ausentes são aleatórios, exceto a coluna 'is_4wd' que apresenta '1.0' e 'NaN'.\n",
    "#Vamos determinar que os carros que possuem 'NaN' são carros que não possuem tração 4x4.\n",
    "df['is_4wd'].value_counts()"
   ]
  },
  {
   "cell_type": "code",
   "execution_count": 9,
   "id": "90ba97c6-6c0c-4dbc-845a-f3f2fd7fe00a",
   "metadata": {},
   "outputs": [],
   "source": [
    "#Vamos começar preenchendo com '0.0' os valores ausentes da coluna 'is_4wd'.\n",
    "df['is_4wd'] = df['is_4wd'].fillna(value = 0.0)\n"
   ]
  },
  {
   "cell_type": "code",
   "execution_count": 10,
   "id": "894a5421",
   "metadata": {
    "scrolled": true
   },
   "outputs": [
    {
     "data": {
      "text/plain": [
       "0"
      ]
     },
     "execution_count": 10,
     "metadata": {},
     "output_type": "execute_result"
    }
   ],
   "source": [
    "#Checando coluna 'is_4wd' depois de ter preenchido os valores 'NaN'\n",
    "df['is_4wd'].isna().sum()"
   ]
  },
  {
   "cell_type": "code",
   "execution_count": 11,
   "id": "e1817de3-2996-4bbf-8137-ff1e5910d93b",
   "metadata": {},
   "outputs": [
    {
     "data": {
      "text/plain": [
       "0.0    25953\n",
       "1.0    25572\n",
       "Name: is_4wd, dtype: int64"
      ]
     },
     "execution_count": 11,
     "metadata": {},
     "output_type": "execute_result"
    }
   ],
   "source": [
    "#Checando com value_counts():\n",
    "df['is_4wd'].value_counts()"
   ]
  },
  {
   "cell_type": "markdown",
   "id": "5148f191",
   "metadata": {},
   "source": [
    "<div class=\"alert alert-success\">\n",
    "<strong>Comentário do revisor v1</strong>\n",
    "\n",
    "Bom trabalho com a variável is_4wd, faz sentido.\n",
    "</div>"
   ]
  },
  {
   "cell_type": "code",
   "execution_count": 12,
   "id": "17e00317-dca4-4c9d-98d4-2e0c351c1403",
   "metadata": {},
   "outputs": [],
   "source": [
    "#Vamos preencher os valores ausentes de 'model_year' pela média de 'model_year' de cada modelo ('model')\n",
    "#Criando pivot_table alternativa para obter a média de 'model_year' por 'model'\n",
    "df_pivot_table = df.pivot_table(index='model', values = 'model_year', aggfunc = 'mean')"
   ]
  },
  {
   "cell_type": "code",
   "execution_count": 13,
   "id": "663c6c0c-f391-478b-b14a-93bc44241614",
   "metadata": {},
   "outputs": [],
   "source": [
    "#Arredondando 'model_year' para não ficarem valores decimais\n",
    "df_pivot_table['model_year'] = df_pivot_table['model_year'].round()"
   ]
  },
  {
   "cell_type": "code",
   "execution_count": 14,
   "id": "8f9c9bc8-25c5-4231-a456-f6e4db349563",
   "metadata": {},
   "outputs": [],
   "source": [
    "#Definindo o índice de 'df' para 'model', assim vamos conseguir os pares de índices comparando com a pivot_table alternativa\n",
    "df.set_index('model', inplace = True)"
   ]
  },
  {
   "cell_type": "code",
   "execution_count": 15,
   "id": "228a9879-52f6-4c85-909e-11a49baa757e",
   "metadata": {},
   "outputs": [],
   "source": [
    "#Preenchendo os valores ausentes da coluna 'model_year' pela média de 'model_year' de cada 'model'\n",
    "df['model_year'] = df['model_year'].fillna(value = df_pivot_table['model_year'])"
   ]
  },
  {
   "cell_type": "code",
   "execution_count": 16,
   "id": "df952ef4-401b-43b1-9065-103de478c5bd",
   "metadata": {},
   "outputs": [
    {
     "data": {
      "text/plain": [
       "0"
      ]
     },
     "execution_count": 16,
     "metadata": {},
     "output_type": "execute_result"
    }
   ],
   "source": [
    "#Verificando valores ausentes na coluna 'model_year'\n",
    "df['model_year'].isna().sum()"
   ]
  },
  {
   "cell_type": "code",
   "execution_count": 17,
   "id": "d89dc4b6",
   "metadata": {},
   "outputs": [
    {
     "data": {
      "text/plain": [
       "model\n",
       "acura tl             2008.0\n",
       "bmw x5               2009.0\n",
       "buick enclave        2012.0\n",
       "cadillac escalade    2009.0\n",
       "chevrolet camaro     2008.0\n",
       "                      ...  \n",
       "toyota sienna        2009.0\n",
       "toyota tacoma        2009.0\n",
       "toyota tundra        2009.0\n",
       "volkswagen jetta     2011.0\n",
       "volkswagen passat    2011.0\n",
       "Name: model_year, Length: 100, dtype: float64"
      ]
     },
     "execution_count": 17,
     "metadata": {},
     "output_type": "execute_result"
    }
   ],
   "source": [
    "df_pivot_table['model_year']"
   ]
  },
  {
   "cell_type": "markdown",
   "id": "699fd916",
   "metadata": {},
   "source": [
    "<div class=\"alert alert-success\">\n",
    "<strong>Comentário do revisor v1</strong>\n",
    "\n",
    "Entendi o seu raciocínio, bem legal. Concordo com a condicional e com a escolha da média + arredondamento.\n",
    "    \n",
    "Está indo indo muito bem!\n",
    "</div>"
   ]
  },
  {
   "cell_type": "code",
   "execution_count": 18,
   "id": "ec228b11-f258-4615-8490-4ead15f9a68e",
   "metadata": {},
   "outputs": [],
   "source": [
    "#Vamos preencher os valores ausentes de 'cylinders' pela média de 'cylinders' para cada modelo ('model'):\n",
    "#Criando pivot_table alternativa para obter a média de 'cylinders' por 'model'\n",
    "df_pivot_table_cylinders = df.pivot_table(index = 'model', values = 'cylinders', aggfunc = 'mean')\n"
   ]
  },
  {
   "cell_type": "code",
   "execution_count": 19,
   "id": "20397db7-2b92-4923-9e8a-edd3178dc49a",
   "metadata": {},
   "outputs": [],
   "source": [
    "#Arredondando valores\n",
    "df_pivot_table_cylinders['cylinders'] = df_pivot_table_cylinders['cylinders'].round()"
   ]
  },
  {
   "cell_type": "code",
   "execution_count": 20,
   "id": "33e27e9a-f00e-448a-a9e3-9fc8e359be0e",
   "metadata": {},
   "outputs": [],
   "source": [
    "#Preenchendo os valores ausentes da coluna 'cylinders' pela média de 'cylinders' para cada modelo('model')\n",
    "df['cylinders'] = df['cylinders'].fillna(value = df_pivot_table_cylinders['cylinders'])"
   ]
  },
  {
   "cell_type": "code",
   "execution_count": 21,
   "id": "f60adb00-8a73-4864-86b6-4a7fb9c644d0",
   "metadata": {},
   "outputs": [
    {
     "data": {
      "text/plain": [
       "0"
      ]
     },
     "execution_count": 21,
     "metadata": {},
     "output_type": "execute_result"
    }
   ],
   "source": [
    "#Verificando se valores ausentes foram substituídos\n",
    "df['cylinders'].isna().sum()"
   ]
  },
  {
   "cell_type": "code",
   "execution_count": 22,
   "id": "df7f8c7f-aa17-4fc2-a689-2e2e85ff68c0",
   "metadata": {},
   "outputs": [],
   "source": [
    "#Redefinindo o índice\n",
    "df.reset_index(inplace = True)"
   ]
  },
  {
   "cell_type": "code",
   "execution_count": 23,
   "id": "b532f6d1",
   "metadata": {},
   "outputs": [
    {
     "name": "stdout",
     "output_type": "stream",
     "text": [
      "<class 'pandas.core.frame.DataFrame'>\n",
      "RangeIndex: 51525 entries, 0 to 51524\n",
      "Data columns (total 13 columns):\n",
      " #   Column        Non-Null Count  Dtype  \n",
      "---  ------        --------------  -----  \n",
      " 0   model         51525 non-null  object \n",
      " 1   price         51525 non-null  int64  \n",
      " 2   model_year    51525 non-null  float64\n",
      " 3   condition     51525 non-null  object \n",
      " 4   cylinders     51525 non-null  float64\n",
      " 5   fuel          51525 non-null  object \n",
      " 6   odometer      43633 non-null  float64\n",
      " 7   transmission  51525 non-null  object \n",
      " 8   type          51525 non-null  object \n",
      " 9   paint_color   42258 non-null  object \n",
      " 10  is_4wd        51525 non-null  float64\n",
      " 11  date_posted   51525 non-null  object \n",
      " 12  days_listed   51525 non-null  int64  \n",
      "dtypes: float64(4), int64(2), object(7)\n",
      "memory usage: 5.1+ MB\n"
     ]
    }
   ],
   "source": [
    "df.info()"
   ]
  },
  {
   "cell_type": "markdown",
   "id": "6ef71a89",
   "metadata": {},
   "source": [
    "<div class=\"alert alert-success\">\n",
    "<strong>Comentário do revisor v1</strong>\n",
    "\n",
    "Ótimo! \n",
    "\n",
    "</div>"
   ]
  },
  {
   "cell_type": "code",
   "execution_count": 24,
   "id": "5eab1b0c-a17a-4d36-a88f-1be68da78b29",
   "metadata": {},
   "outputs": [],
   "source": [
    "#Vamos preencher os valores ausentes de 'odometer' pela mediana de 'odometer' de todos modelos\n",
    "#Definindo a mediana de 'odometer'\n",
    "df_odometer_mean = df['odometer'].mean()"
   ]
  },
  {
   "cell_type": "code",
   "execution_count": 25,
   "id": "b5ddac60-b21c-4c89-ae6c-f6a662ff0056",
   "metadata": {},
   "outputs": [],
   "source": [
    "#Preenchendo os valores ausentes da coluna 'odometer':\n",
    "df['odometer'] = df['odometer'].fillna(value = df_odometer_mean)"
   ]
  },
  {
   "cell_type": "code",
   "execution_count": 26,
   "id": "29b27b72-32a6-471d-85ac-fc73de5f0bc1",
   "metadata": {},
   "outputs": [
    {
     "data": {
      "text/plain": [
       "0"
      ]
     },
     "execution_count": 26,
     "metadata": {},
     "output_type": "execute_result"
    }
   ],
   "source": [
    "#Checando valores ausentes\n",
    "df['odometer'].isna().sum()"
   ]
  },
  {
   "cell_type": "markdown",
   "id": "e40220c5",
   "metadata": {},
   "source": [
    "<div class=\"alert alert-warning\">\n",
    "<strong>Comentário do revisor v1</strong>\n",
    "\n",
    "Muito bom, mas seria ainda mais interessante se você fizesse as substituições dessa variável condicionada a média!\n",
    "</div>"
   ]
  },
  {
   "cell_type": "code",
   "execution_count": 27,
   "id": "62b880d2-a3af-4f70-841c-23fc6362df03",
   "metadata": {},
   "outputs": [],
   "source": [
    "#Vamos preencher os valores ausentes da variável categórica 'paint_color' com 'NE' de não especificado\n",
    "df['paint_color'] = df['paint_color'].fillna(value = 'NE')"
   ]
  },
  {
   "cell_type": "code",
   "execution_count": 28,
   "id": "8d07232f-3224-4fc2-93d0-b40449a3ddcb",
   "metadata": {},
   "outputs": [
    {
     "data": {
      "text/plain": [
       "0"
      ]
     },
     "execution_count": 28,
     "metadata": {},
     "output_type": "execute_result"
    }
   ],
   "source": [
    "#Checando valores ausentes na coluna 'paint_color'\n",
    "df['paint_color'].isna().sum()"
   ]
  },
  {
   "cell_type": "markdown",
   "id": "bc168ba5",
   "metadata": {},
   "source": [
    "<div class=\"alert alert-success\">\n",
    "<strong>Comentário do revisor v1</strong>\n",
    "\n",
    "Boa decisão.\n",
    "\n",
    "</div>"
   ]
  },
  {
   "cell_type": "code",
   "execution_count": 29,
   "id": "bac4686f-06a8-4950-820f-16b7b00fbaff",
   "metadata": {},
   "outputs": [
    {
     "name": "stdout",
     "output_type": "stream",
     "text": [
      "<class 'pandas.core.frame.DataFrame'>\n",
      "RangeIndex: 51525 entries, 0 to 51524\n",
      "Data columns (total 13 columns):\n",
      " #   Column        Non-Null Count  Dtype  \n",
      "---  ------        --------------  -----  \n",
      " 0   model         51525 non-null  object \n",
      " 1   price         51525 non-null  int64  \n",
      " 2   model_year    51525 non-null  float64\n",
      " 3   condition     51525 non-null  object \n",
      " 4   cylinders     51525 non-null  float64\n",
      " 5   fuel          51525 non-null  object \n",
      " 6   odometer      51525 non-null  float64\n",
      " 7   transmission  51525 non-null  object \n",
      " 8   type          51525 non-null  object \n",
      " 9   paint_color   51525 non-null  object \n",
      " 10  is_4wd        51525 non-null  float64\n",
      " 11  date_posted   51525 non-null  object \n",
      " 12  days_listed   51525 non-null  int64  \n",
      "dtypes: float64(4), int64(2), object(7)\n",
      "memory usage: 5.1+ MB\n"
     ]
    },
    {
     "data": {
      "text/html": [
       "<div>\n",
       "<style scoped>\n",
       "    .dataframe tbody tr th:only-of-type {\n",
       "        vertical-align: middle;\n",
       "    }\n",
       "\n",
       "    .dataframe tbody tr th {\n",
       "        vertical-align: top;\n",
       "    }\n",
       "\n",
       "    .dataframe thead th {\n",
       "        text-align: right;\n",
       "    }\n",
       "</style>\n",
       "<table border=\"1\" class=\"dataframe\">\n",
       "  <thead>\n",
       "    <tr style=\"text-align: right;\">\n",
       "      <th></th>\n",
       "      <th>model</th>\n",
       "      <th>price</th>\n",
       "      <th>model_year</th>\n",
       "      <th>condition</th>\n",
       "      <th>cylinders</th>\n",
       "      <th>fuel</th>\n",
       "      <th>odometer</th>\n",
       "      <th>transmission</th>\n",
       "      <th>type</th>\n",
       "      <th>paint_color</th>\n",
       "      <th>is_4wd</th>\n",
       "      <th>date_posted</th>\n",
       "      <th>days_listed</th>\n",
       "    </tr>\n",
       "  </thead>\n",
       "  <tbody>\n",
       "    <tr>\n",
       "      <th>0</th>\n",
       "      <td>bmw x5</td>\n",
       "      <td>9400</td>\n",
       "      <td>2011.0</td>\n",
       "      <td>good</td>\n",
       "      <td>6.0</td>\n",
       "      <td>gas</td>\n",
       "      <td>145000.000000</td>\n",
       "      <td>automatic</td>\n",
       "      <td>SUV</td>\n",
       "      <td>NE</td>\n",
       "      <td>1.0</td>\n",
       "      <td>2018-06-23</td>\n",
       "      <td>19</td>\n",
       "    </tr>\n",
       "    <tr>\n",
       "      <th>1</th>\n",
       "      <td>ford f-150</td>\n",
       "      <td>25500</td>\n",
       "      <td>2009.0</td>\n",
       "      <td>good</td>\n",
       "      <td>6.0</td>\n",
       "      <td>gas</td>\n",
       "      <td>88705.000000</td>\n",
       "      <td>automatic</td>\n",
       "      <td>pickup</td>\n",
       "      <td>white</td>\n",
       "      <td>1.0</td>\n",
       "      <td>2018-10-19</td>\n",
       "      <td>50</td>\n",
       "    </tr>\n",
       "    <tr>\n",
       "      <th>2</th>\n",
       "      <td>hyundai sonata</td>\n",
       "      <td>5500</td>\n",
       "      <td>2013.0</td>\n",
       "      <td>like new</td>\n",
       "      <td>4.0</td>\n",
       "      <td>gas</td>\n",
       "      <td>110000.000000</td>\n",
       "      <td>automatic</td>\n",
       "      <td>sedan</td>\n",
       "      <td>red</td>\n",
       "      <td>0.0</td>\n",
       "      <td>2019-02-07</td>\n",
       "      <td>79</td>\n",
       "    </tr>\n",
       "    <tr>\n",
       "      <th>3</th>\n",
       "      <td>ford f-150</td>\n",
       "      <td>1500</td>\n",
       "      <td>2003.0</td>\n",
       "      <td>fair</td>\n",
       "      <td>8.0</td>\n",
       "      <td>gas</td>\n",
       "      <td>115553.461738</td>\n",
       "      <td>automatic</td>\n",
       "      <td>pickup</td>\n",
       "      <td>NE</td>\n",
       "      <td>0.0</td>\n",
       "      <td>2019-03-22</td>\n",
       "      <td>9</td>\n",
       "    </tr>\n",
       "    <tr>\n",
       "      <th>4</th>\n",
       "      <td>chrysler 200</td>\n",
       "      <td>14900</td>\n",
       "      <td>2017.0</td>\n",
       "      <td>excellent</td>\n",
       "      <td>4.0</td>\n",
       "      <td>gas</td>\n",
       "      <td>80903.000000</td>\n",
       "      <td>automatic</td>\n",
       "      <td>sedan</td>\n",
       "      <td>black</td>\n",
       "      <td>0.0</td>\n",
       "      <td>2019-04-02</td>\n",
       "      <td>28</td>\n",
       "    </tr>\n",
       "    <tr>\n",
       "      <th>5</th>\n",
       "      <td>chrysler 300</td>\n",
       "      <td>14990</td>\n",
       "      <td>2014.0</td>\n",
       "      <td>excellent</td>\n",
       "      <td>6.0</td>\n",
       "      <td>gas</td>\n",
       "      <td>57954.000000</td>\n",
       "      <td>automatic</td>\n",
       "      <td>sedan</td>\n",
       "      <td>black</td>\n",
       "      <td>1.0</td>\n",
       "      <td>2018-06-20</td>\n",
       "      <td>15</td>\n",
       "    </tr>\n",
       "    <tr>\n",
       "      <th>6</th>\n",
       "      <td>toyota camry</td>\n",
       "      <td>12990</td>\n",
       "      <td>2015.0</td>\n",
       "      <td>excellent</td>\n",
       "      <td>4.0</td>\n",
       "      <td>gas</td>\n",
       "      <td>79212.000000</td>\n",
       "      <td>automatic</td>\n",
       "      <td>sedan</td>\n",
       "      <td>white</td>\n",
       "      <td>0.0</td>\n",
       "      <td>2018-12-27</td>\n",
       "      <td>73</td>\n",
       "    </tr>\n",
       "    <tr>\n",
       "      <th>7</th>\n",
       "      <td>honda pilot</td>\n",
       "      <td>15990</td>\n",
       "      <td>2013.0</td>\n",
       "      <td>excellent</td>\n",
       "      <td>6.0</td>\n",
       "      <td>gas</td>\n",
       "      <td>109473.000000</td>\n",
       "      <td>automatic</td>\n",
       "      <td>SUV</td>\n",
       "      <td>black</td>\n",
       "      <td>1.0</td>\n",
       "      <td>2019-01-07</td>\n",
       "      <td>68</td>\n",
       "    </tr>\n",
       "    <tr>\n",
       "      <th>8</th>\n",
       "      <td>kia sorento</td>\n",
       "      <td>11500</td>\n",
       "      <td>2012.0</td>\n",
       "      <td>excellent</td>\n",
       "      <td>4.0</td>\n",
       "      <td>gas</td>\n",
       "      <td>104174.000000</td>\n",
       "      <td>automatic</td>\n",
       "      <td>SUV</td>\n",
       "      <td>NE</td>\n",
       "      <td>1.0</td>\n",
       "      <td>2018-07-16</td>\n",
       "      <td>19</td>\n",
       "    </tr>\n",
       "    <tr>\n",
       "      <th>9</th>\n",
       "      <td>honda pilot</td>\n",
       "      <td>9200</td>\n",
       "      <td>2008.0</td>\n",
       "      <td>excellent</td>\n",
       "      <td>6.0</td>\n",
       "      <td>gas</td>\n",
       "      <td>147191.000000</td>\n",
       "      <td>automatic</td>\n",
       "      <td>SUV</td>\n",
       "      <td>blue</td>\n",
       "      <td>1.0</td>\n",
       "      <td>2019-02-15</td>\n",
       "      <td>17</td>\n",
       "    </tr>\n",
       "  </tbody>\n",
       "</table>\n",
       "</div>"
      ],
      "text/plain": [
       "            model  price  model_year  condition  cylinders fuel  \\\n",
       "0          bmw x5   9400      2011.0       good        6.0  gas   \n",
       "1      ford f-150  25500      2009.0       good        6.0  gas   \n",
       "2  hyundai sonata   5500      2013.0   like new        4.0  gas   \n",
       "3      ford f-150   1500      2003.0       fair        8.0  gas   \n",
       "4    chrysler 200  14900      2017.0  excellent        4.0  gas   \n",
       "5    chrysler 300  14990      2014.0  excellent        6.0  gas   \n",
       "6    toyota camry  12990      2015.0  excellent        4.0  gas   \n",
       "7     honda pilot  15990      2013.0  excellent        6.0  gas   \n",
       "8     kia sorento  11500      2012.0  excellent        4.0  gas   \n",
       "9     honda pilot   9200      2008.0  excellent        6.0  gas   \n",
       "\n",
       "        odometer transmission    type paint_color  is_4wd date_posted  \\\n",
       "0  145000.000000    automatic     SUV          NE     1.0  2018-06-23   \n",
       "1   88705.000000    automatic  pickup       white     1.0  2018-10-19   \n",
       "2  110000.000000    automatic   sedan         red     0.0  2019-02-07   \n",
       "3  115553.461738    automatic  pickup          NE     0.0  2019-03-22   \n",
       "4   80903.000000    automatic   sedan       black     0.0  2019-04-02   \n",
       "5   57954.000000    automatic   sedan       black     1.0  2018-06-20   \n",
       "6   79212.000000    automatic   sedan       white     0.0  2018-12-27   \n",
       "7  109473.000000    automatic     SUV       black     1.0  2019-01-07   \n",
       "8  104174.000000    automatic     SUV          NE     1.0  2018-07-16   \n",
       "9  147191.000000    automatic     SUV        blue     1.0  2019-02-15   \n",
       "\n",
       "   days_listed  \n",
       "0           19  \n",
       "1           50  \n",
       "2           79  \n",
       "3            9  \n",
       "4           28  \n",
       "5           15  \n",
       "6           73  \n",
       "7           68  \n",
       "8           19  \n",
       "9           17  "
      ]
     },
     "execution_count": 29,
     "metadata": {},
     "output_type": "execute_result"
    }
   ],
   "source": [
    "#Exibindo df e informações gerais novamente\n",
    "df.info()\n",
    "df.head(10)"
   ]
  },
  {
   "cell_type": "markdown",
   "id": "dc6bee8a-0c23-40aa-86dc-efa2666491f6",
   "metadata": {},
   "source": [
    "Vamos trocar o tipo de dado para algumas colunas:\n",
    "\n",
    "1 - 'model_year' p/ int64\n",
    "\n",
    "2 - 'cylinders' p/ int64\n",
    "\n",
    "3 - 'is_4wd' p/ int64\n",
    "\n",
    "4 - 'date_posted p/ datetime\n"
   ]
  },
  {
   "cell_type": "code",
   "execution_count": 30,
   "id": "4198a307-9c15-4ae6-a4fb-1abaa99fd206",
   "metadata": {},
   "outputs": [],
   "source": [
    "#Trocando tipos de dados para as colunas citadas acima:\n",
    "df['model_year'] = df['model_year'].astype('int64')\n",
    "df['cylinders'] = df['cylinders'].astype('int64')\n",
    "df['is_4wd'] = df['is_4wd'].astype('int64')\n",
    "df['date_posted'] = pd.to_datetime(df['date_posted'], format = '%Y-%m-%d')"
   ]
  },
  {
   "cell_type": "code",
   "execution_count": 31,
   "id": "0330d5f8-1608-4e9b-8a62-83d4494f45e3",
   "metadata": {},
   "outputs": [
    {
     "name": "stdout",
     "output_type": "stream",
     "text": [
      "<class 'pandas.core.frame.DataFrame'>\n",
      "RangeIndex: 51525 entries, 0 to 51524\n",
      "Data columns (total 13 columns):\n",
      " #   Column        Non-Null Count  Dtype         \n",
      "---  ------        --------------  -----         \n",
      " 0   model         51525 non-null  object        \n",
      " 1   price         51525 non-null  int64         \n",
      " 2   model_year    51525 non-null  int64         \n",
      " 3   condition     51525 non-null  object        \n",
      " 4   cylinders     51525 non-null  int64         \n",
      " 5   fuel          51525 non-null  object        \n",
      " 6   odometer      51525 non-null  float64       \n",
      " 7   transmission  51525 non-null  object        \n",
      " 8   type          51525 non-null  object        \n",
      " 9   paint_color   51525 non-null  object        \n",
      " 10  is_4wd        51525 non-null  int64         \n",
      " 11  date_posted   51525 non-null  datetime64[ns]\n",
      " 12  days_listed   51525 non-null  int64         \n",
      "dtypes: datetime64[ns](1), float64(1), int64(5), object(6)\n",
      "memory usage: 5.1+ MB\n"
     ]
    }
   ],
   "source": [
    "#Exbindo informações gerais novamente:\n",
    "df.info()"
   ]
  },
  {
   "cell_type": "code",
   "execution_count": 32,
   "id": "d5b14998-e05b-42a8-9059-d7b455c1a3be",
   "metadata": {},
   "outputs": [],
   "source": [
    "#Adicionando coluna de dia da semana na tabela\n",
    "df['week_day'] = df['date_posted'].dt.weekday"
   ]
  },
  {
   "cell_type": "code",
   "execution_count": 33,
   "id": "c7fcab42-2e7b-47c1-96c3-2f216fdd8665",
   "metadata": {},
   "outputs": [],
   "source": [
    "#Adicionando mês que a propagando foi colocada\n",
    "df['month'] = df['date_posted'].dt.month"
   ]
  },
  {
   "cell_type": "code",
   "execution_count": 34,
   "id": "dcf7d5dd-6699-47d6-919e-28473a0623e2",
   "metadata": {},
   "outputs": [],
   "source": [
    "#Adicionando o ano em que a propaganda foi colocada\n",
    "df['year'] = df['date_posted'].dt.year"
   ]
  },
  {
   "cell_type": "code",
   "execution_count": 35,
   "id": "cd5f0a77-ac9b-4fdf-ac55-4b1c1e7ebf56",
   "metadata": {},
   "outputs": [],
   "source": [
    "#Criando coluna de 'idade' do carro\n",
    "df['vehicle_age'] = df['date_posted'].dt.year - df['model_year']"
   ]
  },
  {
   "cell_type": "markdown",
   "id": "1e22306a",
   "metadata": {},
   "source": [
    "<div class=\"alert alert-warning\">\n",
    "<strong>Comentário do revisor v1</strong>\n",
    "\n",
    "Perfeita a execução, mas me confundi um pouco. Sugiro usar o nome vehicle_age como nome dessa variável.\n",
    "</div>"
   ]
  },
  {
   "cell_type": "code",
   "execution_count": 36,
   "id": "719d9283-4326-4d3a-b228-6f2b56914854",
   "metadata": {},
   "outputs": [],
   "source": [
    "#Criando a coluna com a média de quilômetragem por ano por veículo\n",
    "df['mean_odometer'] = df['odometer'] / df['vehicle_age']"
   ]
  },
  {
   "cell_type": "code",
   "execution_count": 37,
   "id": "bfdc571e-f7e1-457f-a3a8-fadc55f56e35",
   "metadata": {},
   "outputs": [
    {
     "data": {
      "text/plain": [
       "excellent    24773\n",
       "good         20145\n",
       "like new      4742\n",
       "fair          1607\n",
       "new            143\n",
       "salvage        115\n",
       "Name: condition, dtype: int64"
      ]
     },
     "execution_count": 37,
     "metadata": {},
     "output_type": "execute_result"
    }
   ],
   "source": [
    "#Visualizando valores na coluna 'condition'\n",
    "df['condition'].value_counts()"
   ]
  },
  {
   "cell_type": "code",
   "execution_count": 38,
   "id": "ba8f2385-1455-4ff7-8d70-ae8686971457",
   "metadata": {},
   "outputs": [],
   "source": [
    "#Categorizando/Substituindo valores string da coluna 'condition' por valores númericos\n",
    "#Criando função para categorização\n",
    "def subs_valores (row):\n",
    "    if row['condition'] == 'excellent':\n",
    "        return 3\n",
    "    if row['condition'] == 'good':\n",
    "        return 2\n",
    "    if row ['condition'] == 'like new':\n",
    "        return 4\n",
    "    if row['condition'] == 'fair':\n",
    "        return 1\n",
    "    if row['condition'] == 'new':\n",
    "        return 5\n",
    "    if row['condition'] == 'salvage':\n",
    "        return 0\n",
    "#Alterando valores string por números\n",
    "df['condition'] = df.apply(subs_valores, axis = 1)"
   ]
  },
  {
   "cell_type": "markdown",
   "id": "709ac211",
   "metadata": {},
   "source": [
    "<div class=\"alert alert-success\">\n",
    "<strong>Comentário do revisor v1</strong>\n",
    "\n",
    "Perfeitos os pontos do passo 3\n",
    "</div>"
   ]
  },
  {
   "cell_type": "code",
   "execution_count": 39,
   "id": "afcbcec3-2813-49b9-9590-b51206b1c32d",
   "metadata": {},
   "outputs": [
    {
     "data": {
      "image/png": "[encoded data removed]",
      "text/plain": [
       "<Figure size 432x288 with 1 Axes>"
      ]
     },
     "metadata": {
      "needs_background": "light"
     },
     "output_type": "display_data"
    },
    {
     "data": {
      "image/png": "[encoded data removed]",
      "text/plain": [
       "<Figure size 432x288 with 1 Axes>"
      ]
     },
     "metadata": {
      "needs_background": "light"
     },
     "output_type": "display_data"
    },
    {
     "data": {
      "image/png": "[encoded data removed]",
      "text/plain": [
       "<Figure size 432x288 with 1 Axes>"
      ]
     },
     "metadata": {
      "needs_background": "light"
     },
     "output_type": "display_data"
    },
    {
     "data": {
      "image/png": "[encoded data removed]",
      "text/plain": [
       "<Figure size 432x288 with 1 Axes>"
      ]
     },
     "metadata": {
      "needs_background": "light"
     },
     "output_type": "display_data"
    },
    {
     "data": {
      "image/png": "[encoded data removed]",
      "text/plain": [
       "<Figure size 432x288 with 1 Axes>"
      ]
     },
     "metadata": {
      "needs_background": "light"
     },
     "output_type": "display_data"
    },
    {
     "data": {
      "image/png": "[encoded data removed]",
      "text/plain": [
       "<Figure size 432x288 with 1 Axes>"
      ]
     },
     "metadata": {
      "needs_background": "light"
     },
     "output_type": "display_data"
    }
   ],
   "source": [
    "#Criando histogramas paras as seguintes colunas através de um ciclo\n",
    "colunas = ['price','vehicle_age','date_posted','odometer','cylinders','condition']\n",
    "for col in colunas:\n",
    "    if col == 'price':\n",
    "        df.hist(col, bins = 40)\n",
    "        plt.ylim(0,30000)\n",
    "        plt.xlim(0,38000)\n",
    "    if col == 'vehicle_age':\n",
    "        df.hist(col,bins = 40)\n",
    "        plt.ylim(0,12000)\n",
    "        plt.xlim(0,120)\n",
    "    if col != 'price' and col != 'vehicle_age':\n",
    "        df.hist(col, bins = 40)\n",
    "    \n",
    "    \n",
    "        "
   ]
  },
  {
   "cell_type": "code",
   "execution_count": 40,
   "id": "1813d888-85f1-45f9-9fc2-58f00c9e0762",
   "metadata": {},
   "outputs": [
    {
     "data": {
      "text/plain": [
       "count     51525.000000\n",
       "mean      12132.464920\n",
       "std       10040.803015\n",
       "min           1.000000\n",
       "25%        5000.000000\n",
       "50%        9000.000000\n",
       "75%       16839.000000\n",
       "max      375000.000000\n",
       "Name: price, dtype: float64"
      ]
     },
     "execution_count": 40,
     "metadata": {},
     "output_type": "execute_result"
    },
    {
     "data": {
      "image/png": "[encoded data removed]",
      "text/plain": [
       "<Figure size 432x288 with 1 Axes>"
      ]
     },
     "metadata": {
      "needs_background": "light"
     },
     "output_type": "display_data"
    }
   ],
   "source": [
    "#Verificando mais de perto a coluna 'price' com diagramas de caixa\n",
    "df.boxplot('price')\n",
    "plt.ylim(0,50000)\n",
    "df['price'].describe()"
   ]
  },
  {
   "cell_type": "code",
   "execution_count": 41,
   "id": "f82d698c-d489-4193-ad87-4a76026b82b0",
   "metadata": {},
   "outputs": [],
   "source": [
    "#Calculando limite dos bigodes para a coluna 'price'\n",
    "Q1 = df['price'].quantile(0.25)\n",
    "Q3 = df['price'].quantile(0.75)\n",
    "IQR = Q3 - Q1\n",
    "extremo_bigode_price = Q3 + (1.5*IQR)"
   ]
  },
  {
   "cell_type": "code",
   "execution_count": 42,
   "id": "4d9e38da-b8b7-446d-b6fa-3fe2ca532ca2",
   "metadata": {},
   "outputs": [],
   "source": [
    "#Calculando limite dos bigodes para a coluna 'vehicle_year'\n",
    "Q1 = df['vehicle_age'].quantile(0.25)\n",
    "Q3 = df['vehicle_age'].quantile(0.75)\n",
    "IQR = Q3 - Q1\n",
    "extremo_bigode_vy = Q3 + (1.5*IQR)"
   ]
  },
  {
   "cell_type": "code",
   "execution_count": 43,
   "id": "bcc78224-5b7f-4a79-8ad6-fa1b31afa76d",
   "metadata": {},
   "outputs": [],
   "source": [
    "#Calculando limite dos bigodes para a coluna 'odometer'\n",
    "Q1 = df['odometer'].quantile(0.25)\n",
    "Q3 = df['odometer'].quantile(0.75)\n",
    "IQR = Q3 - Q1\n",
    "extremo_bigode_odometer = Q3 + (1.5*IQR)"
   ]
  },
  {
   "cell_type": "code",
   "execution_count": 44,
   "id": "4501e06f-4749-43c7-8a49-f56cd0c8621a",
   "metadata": {},
   "outputs": [
    {
     "data": {
      "text/plain": [
       "count    51525.000000\n",
       "mean         8.556545\n",
       "std          6.111038\n",
       "min          0.000000\n",
       "25%          4.000000\n",
       "50%          8.000000\n",
       "75%         12.000000\n",
       "max        110.000000\n",
       "Name: vehicle_age, dtype: float64"
      ]
     },
     "execution_count": 44,
     "metadata": {},
     "output_type": "execute_result"
    },
    {
     "data": {
      "image/png": "[encoded data removed]",
      "text/plain": [
       "<Figure size 432x288 with 1 Axes>"
      ]
     },
     "metadata": {
      "needs_background": "light"
     },
     "output_type": "display_data"
    }
   ],
   "source": [
    "#Verificando mais de perto a coluna 'vehicle_year' com diagrama de caixa\n",
    "df.boxplot('vehicle_age')\n",
    "plt.ylim(0,40)\n",
    "df['vehicle_age'].describe()"
   ]
  },
  {
   "cell_type": "code",
   "execution_count": 45,
   "id": "090f0d60-0deb-4167-9a0b-336cca7c52e8",
   "metadata": {},
   "outputs": [
    {
     "data": {
      "text/plain": [
       "count     51525.000000\n",
       "mean     115553.461738\n",
       "std       59902.205520\n",
       "min           0.000000\n",
       "25%       79181.000000\n",
       "50%      115553.461738\n",
       "75%      146541.000000\n",
       "max      990000.000000\n",
       "Name: odometer, dtype: float64"
      ]
     },
     "execution_count": 45,
     "metadata": {},
     "output_type": "execute_result"
    },
    {
     "data": {
      "image/png": "[encoded data removed]",
      "text/plain": [
       "<Figure size 432x288 with 1 Axes>"
      ]
     },
     "metadata": {
      "needs_background": "light"
     },
     "output_type": "display_data"
    }
   ],
   "source": [
    "#Olhando mais de perto a coluna 'odometer' com diagrama de caixa\n",
    "df.boxplot('odometer')\n",
    "df['odometer'].describe()"
   ]
  },
  {
   "cell_type": "code",
   "execution_count": 46,
   "id": "568ff36f-ea3d-44e8-be64-96e7c8b73baf",
   "metadata": {},
   "outputs": [
    {
     "data": {
      "text/plain": [
       "count    51525.000000\n",
       "mean         6.120873\n",
       "std          1.654001\n",
       "min          3.000000\n",
       "25%          4.000000\n",
       "50%          6.000000\n",
       "75%          8.000000\n",
       "max         12.000000\n",
       "Name: cylinders, dtype: float64"
      ]
     },
     "execution_count": 46,
     "metadata": {},
     "output_type": "execute_result"
    },
    {
     "data": {
      "image/png": "[encoded data removed]",
      "text/plain": [
       "<Figure size 432x288 with 1 Axes>"
      ]
     },
     "metadata": {
      "needs_background": "light"
     },
     "output_type": "display_data"
    }
   ],
   "source": [
    "#Olhando mais de perto a coluna 'cylinders'\n",
    "df.boxplot('cylinders')\n",
    "df['cylinders'].describe()"
   ]
  },
  {
   "cell_type": "code",
   "execution_count": 47,
   "id": "ae1dea3d-c417-4309-b28d-719f3dd05a5a",
   "metadata": {},
   "outputs": [],
   "source": [
    "#Vamos recortar o dataframe excluindo valores atípicos das colunas: 'price','vehicle_year' e 'odometer'\n",
    "filtered_df = df.query('price <= @extremo_bigode_price & vehicle_age <= @extremo_bigode_vy & odometer <= @extremo_bigode_odometer')"
   ]
  },
  {
   "cell_type": "code",
   "execution_count": 48,
   "id": "3ce5bea6-ccd1-4060-b996-9f1563fc3e5d",
   "metadata": {},
   "outputs": [
    {
     "data": {
      "image/png": "[encoded data removed]",
      "text/plain": [
       "<Figure size 432x288 with 1 Axes>"
      ]
     },
     "metadata": {
      "needs_background": "light"
     },
     "output_type": "display_data"
    },
    {
     "data": {
      "image/png": "[encoded data removed]",
      "text/plain": [
       "<Figure size 432x288 with 1 Axes>"
      ]
     },
     "metadata": {
      "needs_background": "light"
     },
     "output_type": "display_data"
    },
    {
     "data": {
      "image/png": "[encoded data removed]",
      "text/plain": [
       "<Figure size 432x288 with 1 Axes>"
      ]
     },
     "metadata": {
      "needs_background": "light"
     },
     "output_type": "display_data"
    },
    {
     "data": {
      "image/png": "[encoded data removed]",
      "text/plain": [
       "<Figure size 432x288 with 1 Axes>"
      ]
     },
     "metadata": {
      "needs_background": "light"
     },
     "output_type": "display_data"
    },
    {
     "data": {
      "image/png": "[encoded data removed]",
      "text/plain": [
       "<Figure size 432x288 with 1 Axes>"
      ]
     },
     "metadata": {
      "needs_background": "light"
     },
     "output_type": "display_data"
    },
    {
     "data": {
      "image/png": "[encoded data removed]",
      "text/plain": [
       "<Figure size 432x288 with 1 Axes>"
      ]
     },
     "metadata": {
      "needs_background": "light"
     },
     "output_type": "display_data"
    }
   ],
   "source": [
    "#Recriar histogramas para os dados filtrados\n",
    "for col in colunas:\n",
    "    if col == 'price':\n",
    "        filtered_df.hist(col, bins = 40)\n",
    "        plt.ylim(0,30000)\n",
    "        plt.xlim(0,38000)\n",
    "    if col == 'vehicle_age':\n",
    "        filtered_df.hist(col,bins = 40)\n",
    "        plt.ylim(0,12000)\n",
    "        plt.xlim(0,120)\n",
    "    if col != 'price' and col != 'vehicle_age':\n",
    "        filtered_df.hist(col, bins = 40)\n",
    "    "
   ]
  },
  {
   "cell_type": "markdown",
   "id": "c886f33b-fa6e-46fd-8b32-93d7c123b32c",
   "metadata": {},
   "source": [
    "Diferenças entre histogramas:\n",
    "\n",
    "1) Com o novo histograma da coluna 'price', observa-se que a maior concentração da coluna 'price' está entre 0 e 35.000.\n",
    "2) Com o novo histograma da coluna 'vehicle_year', observa-se que a maior concentração da coluna 'vehicle_year' está entre 0 e 20 e poucos anos.\n",
    "3) As colunas 'date_posted', 'condition' e 'cylinders' não mexi pois não possuiam valores atípicos\n",
    "4) Com o novo histrograma da coluna 'odometer', observa-se um pico de concentração entre 100000 e 150000."
   ]
  },
  {
   "cell_type": "code",
   "execution_count": 49,
   "id": "62d2c5c5-c359-4f7e-b7a9-124e333f83ef",
   "metadata": {},
   "outputs": [
    {
     "data": {
      "text/plain": [
       "array([[<AxesSubplot:title={'center':'days_listed'}>]], dtype=object)"
      ]
     },
     "execution_count": 49,
     "metadata": {},
     "output_type": "execute_result"
    },
    {
     "data": {
      "image/png": "[encoded data removed]",
      "text/plain": [
       "<Figure size 432x288 with 1 Axes>"
      ]
     },
     "metadata": {
      "needs_background": "light"
     },
     "output_type": "display_data"
    }
   ],
   "source": [
    "#Construindo um histograma para a coluna 'days_listed'\n",
    "filtered_df.hist('days_listed')"
   ]
  },
  {
   "cell_type": "code",
   "execution_count": 50,
   "id": "b5e5c5ab-9f39-4dba-becb-457d424c096a",
   "metadata": {},
   "outputs": [
    {
     "data": {
      "text/plain": [
       "count    48055.000000\n",
       "mean        39.537821\n",
       "std         28.214071\n",
       "min          0.000000\n",
       "25%         19.000000\n",
       "50%         33.000000\n",
       "75%         53.000000\n",
       "max        271.000000\n",
       "Name: days_listed, dtype: float64"
      ]
     },
     "execution_count": 50,
     "metadata": {},
     "output_type": "execute_result"
    },
    {
     "data": {
      "image/png": "[encoded data removed]",
      "text/plain": [
       "<Figure size 432x288 with 1 Axes>"
      ]
     },
     "metadata": {
      "needs_background": "light"
     },
     "output_type": "display_data"
    }
   ],
   "source": [
    "#Olhando mais de perto a coluna 'days_listed' com diagrama de caixa\n",
    "filtered_df.boxplot('days_listed')\n",
    "filtered_df['days_listed'].describe()"
   ]
  },
  {
   "cell_type": "code",
   "execution_count": 51,
   "id": "f7147fff-03b3-452b-890b-1361fb09047c",
   "metadata": {},
   "outputs": [],
   "source": [
    "#Calculando a média e a mediana para a coluna 'days_listed'\n",
    "days_listed_mean = filtered_df['days_listed'].mean()\n",
    "days_listed_median = filtered_df['days_listed'].median()\n"
   ]
  },
  {
   "cell_type": "code",
   "execution_count": 52,
   "id": "cb0f6bf7-e715-4077-9314-e70884e7ea99",
   "metadata": {},
   "outputs": [
    {
     "data": {
      "text/plain": [
       "33.0"
      ]
     },
     "execution_count": 52,
     "metadata": {},
     "output_type": "execute_result"
    }
   ],
   "source": [
    "#Olhando a mediana\n",
    "days_listed_median"
   ]
  },
  {
   "cell_type": "markdown",
   "id": "373f512a-3a25-4f64-9e7a-6f6d3f2ed037",
   "metadata": {},
   "source": [
    "Descrevendo o tempo de vida útil de uma propaganda:\n",
    " - É a mediana, pois ela reflete melhor a o tempo de vida útil geral dos produtos e não considera valores atípicos presentes na coluna 'days_listed'."
   ]
  },
  {
   "cell_type": "markdown",
   "id": "f0d541b8",
   "metadata": {},
   "source": [
    "<div class=\"alert alert-success\">\n",
    "<strong>Comentário do revisor v1</strong>\n",
    "\n",
    "Excelente!\n",
    "</div>"
   ]
  },
  {
   "cell_type": "code",
   "execution_count": 53,
   "id": "d581fa7c-6c38-4a59-bb35-e6331974bf83",
   "metadata": {},
   "outputs": [],
   "source": [
    "#Determinando quando as propagandas foram removidas rapidamente e as que demoraram mais tempo\n",
    "fast_days_listed = filtered_df.query('days_listed < 20')\n",
    "slow_days_listed = filtered_df.query('days_listed > 100')"
   ]
  },
  {
   "cell_type": "code",
   "execution_count": 54,
   "id": "523ec846-d776-4aba-a798-284785832af6",
   "metadata": {},
   "outputs": [],
   "source": [
    "#Criando pivot table para analisar a contagem de propagandas por modelo e a média de preço por modelo nas propagandas rápidas\n",
    "fast_days_listed_pv = fast_days_listed.pivot_table(index='model', values = 'price', aggfunc = ['count','mean'])\n",
    "fast_days_listed_pv.columns = ['count','mean']"
   ]
  },
  {
   "cell_type": "code",
   "execution_count": 55,
   "id": "2390bdbf-cf9f-4caf-8aa7-c91598fd50ca",
   "metadata": {},
   "outputs": [
    {
     "data": {
      "text/html": [
       "<div>\n",
       "<style scoped>\n",
       "    .dataframe tbody tr th:only-of-type {\n",
       "        vertical-align: middle;\n",
       "    }\n",
       "\n",
       "    .dataframe tbody tr th {\n",
       "        vertical-align: top;\n",
       "    }\n",
       "\n",
       "    .dataframe thead th {\n",
       "        text-align: right;\n",
       "    }\n",
       "</style>\n",
       "<table border=\"1\" class=\"dataframe\">\n",
       "  <thead>\n",
       "    <tr style=\"text-align: right;\">\n",
       "      <th></th>\n",
       "      <th>count</th>\n",
       "      <th>mean</th>\n",
       "    </tr>\n",
       "    <tr>\n",
       "      <th>model</th>\n",
       "      <th></th>\n",
       "      <th></th>\n",
       "    </tr>\n",
       "  </thead>\n",
       "  <tbody>\n",
       "    <tr>\n",
       "      <th>acura tl</th>\n",
       "      <td>63</td>\n",
       "      <td>6188.634921</td>\n",
       "    </tr>\n",
       "    <tr>\n",
       "      <th>bmw x5</th>\n",
       "      <td>64</td>\n",
       "      <td>10310.000000</td>\n",
       "    </tr>\n",
       "    <tr>\n",
       "      <th>buick enclave</th>\n",
       "      <td>78</td>\n",
       "      <td>11457.525641</td>\n",
       "    </tr>\n",
       "    <tr>\n",
       "      <th>cadillac escalade</th>\n",
       "      <td>65</td>\n",
       "      <td>12800.138462</td>\n",
       "    </tr>\n",
       "    <tr>\n",
       "      <th>chevrolet camaro</th>\n",
       "      <td>93</td>\n",
       "      <td>13524.161290</td>\n",
       "    </tr>\n",
       "    <tr>\n",
       "      <th>...</th>\n",
       "      <td>...</td>\n",
       "      <td>...</td>\n",
       "    </tr>\n",
       "    <tr>\n",
       "      <th>toyota sienna</th>\n",
       "      <td>88</td>\n",
       "      <td>7434.761364</td>\n",
       "    </tr>\n",
       "    <tr>\n",
       "      <th>toyota tacoma</th>\n",
       "      <td>185</td>\n",
       "      <td>15567.686486</td>\n",
       "    </tr>\n",
       "    <tr>\n",
       "      <th>toyota tundra</th>\n",
       "      <td>129</td>\n",
       "      <td>13405.875969</td>\n",
       "    </tr>\n",
       "    <tr>\n",
       "      <th>volkswagen jetta</th>\n",
       "      <td>131</td>\n",
       "      <td>6514.473282</td>\n",
       "    </tr>\n",
       "    <tr>\n",
       "      <th>volkswagen passat</th>\n",
       "      <td>111</td>\n",
       "      <td>8107.945946</td>\n",
       "    </tr>\n",
       "  </tbody>\n",
       "</table>\n",
       "<p>99 rows × 2 columns</p>\n",
       "</div>"
      ],
      "text/plain": [
       "                   count          mean\n",
       "model                                 \n",
       "acura tl              63   6188.634921\n",
       "bmw x5                64  10310.000000\n",
       "buick enclave         78  11457.525641\n",
       "cadillac escalade     65  12800.138462\n",
       "chevrolet camaro      93  13524.161290\n",
       "...                  ...           ...\n",
       "toyota sienna         88   7434.761364\n",
       "toyota tacoma        185  15567.686486\n",
       "toyota tundra        129  13405.875969\n",
       "volkswagen jetta     131   6514.473282\n",
       "volkswagen passat    111   8107.945946\n",
       "\n",
       "[99 rows x 2 columns]"
      ]
     },
     "execution_count": 55,
     "metadata": {},
     "output_type": "execute_result"
    }
   ],
   "source": [
    "#Exibindo pivot_table\n",
    "fast_days_listed_pv"
   ]
  },
  {
   "cell_type": "code",
   "execution_count": 75,
   "id": "3a1be489-ca44-4fdb-967e-15305e180f10",
   "metadata": {},
   "outputs": [
    {
     "data": {
      "image/png": "[encoded data removed]",
      "text/plain": [
       "<Figure size 432x288 with 1 Axes>"
      ]
     },
     "metadata": {
      "needs_background": "light"
     },
     "output_type": "display_data"
    },
    {
     "data": {
      "text/plain": [
       "<Figure size 720x576 with 0 Axes>"
      ]
     },
     "metadata": {},
     "output_type": "display_data"
    }
   ],
   "source": [
    "#Gráfico que mostra a dependência do número de propagandas para cada modelo de veículo\n",
    "plt.barh(fast_days_listed_pv.index,fast_days_listed_pv['count'])\n",
    "plt.xlabel('Model')\n",
    "plt.yticks(fontsize =3)\n",
    "plt.ylabel('Count')\n",
    "plt.title('Número de propagandas por modelo')\n",
    "plt.figure(figsize=(8, 6))\n"
   ]
  },
  {
   "cell_type": "code",
   "execution_count": 57,
   "id": "d7c088de-ae9b-4a87-8f01-134490681399",
   "metadata": {},
   "outputs": [
    {
     "data": {
      "text/html": [
       "<div>\n",
       "<style scoped>\n",
       "    .dataframe tbody tr th:only-of-type {\n",
       "        vertical-align: middle;\n",
       "    }\n",
       "\n",
       "    .dataframe tbody tr th {\n",
       "        vertical-align: top;\n",
       "    }\n",
       "\n",
       "    .dataframe thead th {\n",
       "        text-align: right;\n",
       "    }\n",
       "</style>\n",
       "<table border=\"1\" class=\"dataframe\">\n",
       "  <thead>\n",
       "    <tr style=\"text-align: right;\">\n",
       "      <th></th>\n",
       "      <th>count</th>\n",
       "      <th>mean</th>\n",
       "    </tr>\n",
       "    <tr>\n",
       "      <th>model</th>\n",
       "      <th></th>\n",
       "      <th></th>\n",
       "    </tr>\n",
       "  </thead>\n",
       "  <tbody>\n",
       "    <tr>\n",
       "      <th>chevrolet silverado 1500</th>\n",
       "      <td>547</td>\n",
       "      <td>15410.159049</td>\n",
       "    </tr>\n",
       "    <tr>\n",
       "      <th>ford f-150</th>\n",
       "      <td>707</td>\n",
       "      <td>13137.070721</td>\n",
       "    </tr>\n",
       "  </tbody>\n",
       "</table>\n",
       "</div>"
      ],
      "text/plain": [
       "                          count          mean\n",
       "model                                        \n",
       "chevrolet silverado 1500    547  15410.159049\n",
       "ford f-150                  707  13137.070721"
      ]
     },
     "execution_count": 57,
     "metadata": {},
     "output_type": "execute_result"
    }
   ],
   "source": [
    "#Selecionando os dois veículos com mais propagandas\n",
    "fast_days_listed_pv.query('count > 500')"
   ]
  },
  {
   "cell_type": "code",
   "execution_count": 58,
   "id": "f051e64a-ae5d-4cb6-bfde-bb993842e014",
   "metadata": {},
   "outputs": [],
   "source": [
    "#Criando pivot table para analisar a contagem de propagandas por modelo e a média de preço por modelo nas propagandas longas\n",
    "slow_days_listed_pv = slow_days_listed.pivot_table(index='model', values = 'price', aggfunc = ['count','mean'])\n",
    "slow_days_listed_pv.columns = ['count','mean']"
   ]
  },
  {
   "cell_type": "code",
   "execution_count": 59,
   "id": "445da627-4adb-4da4-8ead-fc659378ca97",
   "metadata": {},
   "outputs": [
    {
     "data": {
      "text/html": [
       "<div>\n",
       "<style scoped>\n",
       "    .dataframe tbody tr th:only-of-type {\n",
       "        vertical-align: middle;\n",
       "    }\n",
       "\n",
       "    .dataframe tbody tr th {\n",
       "        vertical-align: top;\n",
       "    }\n",
       "\n",
       "    .dataframe thead th {\n",
       "        text-align: right;\n",
       "    }\n",
       "</style>\n",
       "<table border=\"1\" class=\"dataframe\">\n",
       "  <thead>\n",
       "    <tr style=\"text-align: right;\">\n",
       "      <th></th>\n",
       "      <th>count</th>\n",
       "      <th>mean</th>\n",
       "    </tr>\n",
       "    <tr>\n",
       "      <th>model</th>\n",
       "      <th></th>\n",
       "      <th></th>\n",
       "    </tr>\n",
       "  </thead>\n",
       "  <tbody>\n",
       "    <tr>\n",
       "      <th>acura tl</th>\n",
       "      <td>9</td>\n",
       "      <td>7152.777778</td>\n",
       "    </tr>\n",
       "    <tr>\n",
       "      <th>bmw x5</th>\n",
       "      <td>13</td>\n",
       "      <td>8850.538462</td>\n",
       "    </tr>\n",
       "    <tr>\n",
       "      <th>buick enclave</th>\n",
       "      <td>9</td>\n",
       "      <td>9142.000000</td>\n",
       "    </tr>\n",
       "    <tr>\n",
       "      <th>cadillac escalade</th>\n",
       "      <td>15</td>\n",
       "      <td>14116.600000</td>\n",
       "    </tr>\n",
       "    <tr>\n",
       "      <th>chevrolet camaro</th>\n",
       "      <td>14</td>\n",
       "      <td>10390.357143</td>\n",
       "    </tr>\n",
       "    <tr>\n",
       "      <th>...</th>\n",
       "      <td>...</td>\n",
       "      <td>...</td>\n",
       "    </tr>\n",
       "    <tr>\n",
       "      <th>toyota sienna</th>\n",
       "      <td>15</td>\n",
       "      <td>9949.200000</td>\n",
       "    </tr>\n",
       "    <tr>\n",
       "      <th>toyota tacoma</th>\n",
       "      <td>22</td>\n",
       "      <td>11601.363636</td>\n",
       "    </tr>\n",
       "    <tr>\n",
       "      <th>toyota tundra</th>\n",
       "      <td>15</td>\n",
       "      <td>14066.866667</td>\n",
       "    </tr>\n",
       "    <tr>\n",
       "      <th>volkswagen jetta</th>\n",
       "      <td>23</td>\n",
       "      <td>5963.913043</td>\n",
       "    </tr>\n",
       "    <tr>\n",
       "      <th>volkswagen passat</th>\n",
       "      <td>11</td>\n",
       "      <td>8231.272727</td>\n",
       "    </tr>\n",
       "  </tbody>\n",
       "</table>\n",
       "<p>99 rows × 2 columns</p>\n",
       "</div>"
      ],
      "text/plain": [
       "                   count          mean\n",
       "model                                 \n",
       "acura tl               9   7152.777778\n",
       "bmw x5                13   8850.538462\n",
       "buick enclave          9   9142.000000\n",
       "cadillac escalade     15  14116.600000\n",
       "chevrolet camaro      14  10390.357143\n",
       "...                  ...           ...\n",
       "toyota sienna         15   9949.200000\n",
       "toyota tacoma         22  11601.363636\n",
       "toyota tundra         15  14066.866667\n",
       "volkswagen jetta      23   5963.913043\n",
       "volkswagen passat     11   8231.272727\n",
       "\n",
       "[99 rows x 2 columns]"
      ]
     },
     "execution_count": 59,
     "metadata": {},
     "output_type": "execute_result"
    }
   ],
   "source": [
    "#Exibindo pivot_table\n",
    "slow_days_listed_pv"
   ]
  },
  {
   "cell_type": "code",
   "execution_count": 60,
   "id": "c4f5f05f-6540-42fd-8aea-5dc3a46fa6e6",
   "metadata": {},
   "outputs": [
    {
     "data": {
      "text/plain": [
       "<Figure size 576x432 with 0 Axes>"
      ]
     },
     "execution_count": 60,
     "metadata": {},
     "output_type": "execute_result"
    },
    {
     "data": {
      "image/png": "[encoded data removed]",
      "text/plain": [
       "<Figure size 432x288 with 1 Axes>"
      ]
     },
     "metadata": {
      "needs_background": "light"
     },
     "output_type": "display_data"
    },
    {
     "data": {
      "text/plain": [
       "<Figure size 576x432 with 0 Axes>"
      ]
     },
     "metadata": {},
     "output_type": "display_data"
    }
   ],
   "source": [
    "#Gráfico que mostra a dependência do número de propagandas para cada modelo de veículo\n",
    "plt.barh(slow_days_listed_pv.index,slow_days_listed_pv['count'])\n",
    "plt.xlabel('Model')\n",
    "plt.ylabel('Count')\n",
    "plt.yticks(fontsize =3)\n",
    "plt.title('Número de propagandas por modelo')\n",
    "plt.figure(figsize=(8, 6))\n"
   ]
  },
  {
   "cell_type": "code",
   "execution_count": 61,
   "id": "7084e487-65e4-44a7-8c8a-960c29801d81",
   "metadata": {},
   "outputs": [
    {
     "data": {
      "text/html": [
       "<div>\n",
       "<style scoped>\n",
       "    .dataframe tbody tr th:only-of-type {\n",
       "        vertical-align: middle;\n",
       "    }\n",
       "\n",
       "    .dataframe tbody tr th {\n",
       "        vertical-align: top;\n",
       "    }\n",
       "\n",
       "    .dataframe thead th {\n",
       "        text-align: right;\n",
       "    }\n",
       "</style>\n",
       "<table border=\"1\" class=\"dataframe\">\n",
       "  <thead>\n",
       "    <tr style=\"text-align: right;\">\n",
       "      <th></th>\n",
       "      <th>count</th>\n",
       "      <th>mean</th>\n",
       "    </tr>\n",
       "    <tr>\n",
       "      <th>model</th>\n",
       "      <th></th>\n",
       "      <th></th>\n",
       "    </tr>\n",
       "  </thead>\n",
       "  <tbody>\n",
       "    <tr>\n",
       "      <th>chevrolet silverado 1500</th>\n",
       "      <td>75</td>\n",
       "      <td>15646.386667</td>\n",
       "    </tr>\n",
       "    <tr>\n",
       "      <th>ford f-150</th>\n",
       "      <td>80</td>\n",
       "      <td>12999.500000</td>\n",
       "    </tr>\n",
       "  </tbody>\n",
       "</table>\n",
       "</div>"
      ],
      "text/plain": [
       "                          count          mean\n",
       "model                                        \n",
       "chevrolet silverado 1500     75  15646.386667\n",
       "ford f-150                   80  12999.500000"
      ]
     },
     "execution_count": 61,
     "metadata": {},
     "output_type": "execute_result"
    }
   ],
   "source": [
    "#Selecionando os dois veículos com mais propagandas\n",
    "slow_days_listed_pv.query('count > 70')"
   ]
  },
  {
   "cell_type": "markdown",
   "id": "0545cb94-b28e-4556-9d94-dd8effc4bdc2",
   "metadata": {},
   "source": [
    "Com essas análises, chega-se a conclusão de que os veículos que são vendidos mais rapidamente, são os veículos que contém mais propaganda. Enquanto que os que demoram para ser vendidos são veículos que possuem menos propagandas"
   ]
  },
  {
   "cell_type": "markdown",
   "id": "2fc0ef5f",
   "metadata": {},
   "source": [
    "<div class=\"alert alert-warning\">\n",
    "<strong>Comentário do revisor v1</strong>\n",
    "\n",
    "Análise correta e coerente. Conseguimos melhorar os plots no entanto... Está muito difícil lê-los.\n",
    "\n",
    "Sugiro plotar esse gráfico com barras horizontais e eventualmente mudar um pouco o tamanho da fonte para facilitar a leitura.\n",
    "</div>"
   ]
  },
  {
   "cell_type": "markdown",
   "id": "1a969abd",
   "metadata": {},
   "source": [
    "<div class=\"alert alert-info\">\n",
    "<strong>Comentário do estudante v1</strong>\n",
    "\n",
    "Não consegui aumentar o tamanho do gráfico como um todo para facilitar a visualização das letras pequenas\n",
    "    \n",
    "\n",
    "</div>"
   ]
  },
  {
   "cell_type": "code",
   "execution_count": 62,
   "id": "db85b829-3d48-451e-b8a4-3943acc667b1",
   "metadata": {},
   "outputs": [],
   "source": [
    "#Criando tabela filtrada pelo 'model' 'chevrolet silverado 1500'\n",
    "df_chevrolet_silverado_1500 = filtered_df[filtered_df['model'] == 'chevrolet silverado 1500']"
   ]
  },
  {
   "cell_type": "code",
   "execution_count": 63,
   "id": "121e3066-a710-4239-9f73-f0cf53c8260c",
   "metadata": {},
   "outputs": [
    {
     "data": {
      "text/plain": [
       "<AxesSubplot:xlabel='transmission', ylabel='price'>"
      ]
     },
     "execution_count": 63,
     "metadata": {},
     "output_type": "execute_result"
    },
    {
     "data": {
      "image/png": "[encoded data removed]",
      "text/plain": [
       "<Figure size 432x288 with 1 Axes>"
      ]
     },
     "metadata": {
      "needs_background": "light"
     },
     "output_type": "display_data"
    }
   ],
   "source": [
    "#Criando gráfico para visualizar os diagramas de caixa para as variáveis da coluna 'transmission'\n",
    "sns.boxplot(x = 'transmission', y = 'price', data = df_chevrolet_silverado_1500)"
   ]
  },
  {
   "cell_type": "markdown",
   "id": "b539ad44",
   "metadata": {},
   "source": [
    "<div class=\"alert alert-success\">\n",
    "<strong>Comentário do revisor v1</strong>\n",
    "\n",
    "Lindo gráfico! Sensacional!\n",
    "</div>"
   ]
  },
  {
   "cell_type": "code",
   "execution_count": 64,
   "id": "388d28ea-3322-4b86-9d82-695662b24dcd",
   "metadata": {},
   "outputs": [
    {
     "data": {
      "text/html": [
       "<div>\n",
       "<style scoped>\n",
       "    .dataframe tbody tr th:only-of-type {\n",
       "        vertical-align: middle;\n",
       "    }\n",
       "\n",
       "    .dataframe tbody tr th {\n",
       "        vertical-align: top;\n",
       "    }\n",
       "\n",
       "    .dataframe thead th {\n",
       "        text-align: right;\n",
       "    }\n",
       "</style>\n",
       "<table border=\"1\" class=\"dataframe\">\n",
       "  <thead>\n",
       "    <tr style=\"text-align: right;\">\n",
       "      <th></th>\n",
       "      <th>count</th>\n",
       "      <th>mean</th>\n",
       "      <th>std</th>\n",
       "      <th>min</th>\n",
       "      <th>25%</th>\n",
       "      <th>50%</th>\n",
       "      <th>75%</th>\n",
       "      <th>max</th>\n",
       "    </tr>\n",
       "    <tr>\n",
       "      <th>transmission</th>\n",
       "      <th></th>\n",
       "      <th></th>\n",
       "      <th></th>\n",
       "      <th></th>\n",
       "      <th></th>\n",
       "      <th></th>\n",
       "      <th></th>\n",
       "      <th></th>\n",
       "    </tr>\n",
       "  </thead>\n",
       "  <tbody>\n",
       "    <tr>\n",
       "      <th>automatic</th>\n",
       "      <td>2005.0</td>\n",
       "      <td>15141.297257</td>\n",
       "      <td>8003.157718</td>\n",
       "      <td>1.0</td>\n",
       "      <td>8950.00</td>\n",
       "      <td>13995.0</td>\n",
       "      <td>19999.00</td>\n",
       "      <td>34000.0</td>\n",
       "    </tr>\n",
       "    <tr>\n",
       "      <th>manual</th>\n",
       "      <td>18.0</td>\n",
       "      <td>7036.111111</td>\n",
       "      <td>6398.271953</td>\n",
       "      <td>2000.0</td>\n",
       "      <td>4275.00</td>\n",
       "      <td>4700.0</td>\n",
       "      <td>7887.50</td>\n",
       "      <td>31000.0</td>\n",
       "    </tr>\n",
       "    <tr>\n",
       "      <th>other</th>\n",
       "      <td>4.0</td>\n",
       "      <td>21160.000000</td>\n",
       "      <td>7729.815651</td>\n",
       "      <td>13995.0</td>\n",
       "      <td>16961.25</td>\n",
       "      <td>19325.0</td>\n",
       "      <td>23523.75</td>\n",
       "      <td>31995.0</td>\n",
       "    </tr>\n",
       "  </tbody>\n",
       "</table>\n",
       "</div>"
      ],
      "text/plain": [
       "               count          mean          std      min       25%      50%  \\\n",
       "transmission                                                                  \n",
       "automatic     2005.0  15141.297257  8003.157718      1.0   8950.00  13995.0   \n",
       "manual          18.0   7036.111111  6398.271953   2000.0   4275.00   4700.0   \n",
       "other            4.0  21160.000000  7729.815651  13995.0  16961.25  19325.0   \n",
       "\n",
       "                   75%      max  \n",
       "transmission                     \n",
       "automatic     19999.00  34000.0  \n",
       "manual         7887.50  31000.0  \n",
       "other         23523.75  31995.0  "
      ]
     },
     "execution_count": 64,
     "metadata": {},
     "output_type": "execute_result"
    }
   ],
   "source": [
    "#Verificando com mais detalhes informações da função 'describe()'\n",
    "df_chevrolet_silverado_1500.groupby('transmission')['price'].describe()"
   ]
  },
  {
   "cell_type": "code",
   "execution_count": 65,
   "id": "1d8f1a9f-09bf-41cf-b586-daa546c5eb4e",
   "metadata": {},
   "outputs": [
    {
     "data": {
      "text/plain": [
       "<AxesSubplot:xlabel='paint_color', ylabel='price'>"
      ]
     },
     "execution_count": 65,
     "metadata": {},
     "output_type": "execute_result"
    },
    {
     "data": {
      "image/png": "[encoded data removed]",
      "text/plain": [
       "<Figure size 432x288 with 1 Axes>"
      ]
     },
     "metadata": {
      "needs_background": "light"
     },
     "output_type": "display_data"
    }
   ],
   "source": [
    "#Criando gráfico para visualizar os diagramas de caixa para as variáveis da coluna 'paint_color'\n",
    "sns.boxplot(x='paint_color',y = 'price', data = df_chevrolet_silverado_1500)"
   ]
  },
  {
   "cell_type": "markdown",
   "id": "22caadfb",
   "metadata": {},
   "source": [
    "<div class=\"alert alert-success\">\n",
    "<strong>Comentário do revisor v1</strong>\n",
    "\n",
    "Excelente!\n",
    "</div>"
   ]
  },
  {
   "cell_type": "code",
   "execution_count": 66,
   "id": "8a3f5b7f-daa6-494a-b27f-beb6e0427c56",
   "metadata": {},
   "outputs": [
    {
     "data": {
      "text/html": [
       "<div>\n",
       "<style scoped>\n",
       "    .dataframe tbody tr th:only-of-type {\n",
       "        vertical-align: middle;\n",
       "    }\n",
       "\n",
       "    .dataframe tbody tr th {\n",
       "        vertical-align: top;\n",
       "    }\n",
       "\n",
       "    .dataframe thead th {\n",
       "        text-align: right;\n",
       "    }\n",
       "</style>\n",
       "<table border=\"1\" class=\"dataframe\">\n",
       "  <thead>\n",
       "    <tr style=\"text-align: right;\">\n",
       "      <th></th>\n",
       "      <th>count</th>\n",
       "      <th>mean</th>\n",
       "      <th>std</th>\n",
       "      <th>min</th>\n",
       "      <th>25%</th>\n",
       "      <th>50%</th>\n",
       "      <th>75%</th>\n",
       "      <th>max</th>\n",
       "    </tr>\n",
       "    <tr>\n",
       "      <th>paint_color</th>\n",
       "      <th></th>\n",
       "      <th></th>\n",
       "      <th></th>\n",
       "      <th></th>\n",
       "      <th></th>\n",
       "      <th></th>\n",
       "      <th></th>\n",
       "      <th></th>\n",
       "    </tr>\n",
       "  </thead>\n",
       "  <tbody>\n",
       "    <tr>\n",
       "      <th>green</th>\n",
       "      <td>40.0</td>\n",
       "      <td>11193.250000</td>\n",
       "      <td>9172.855775</td>\n",
       "      <td>2000.0</td>\n",
       "      <td>3800.00</td>\n",
       "      <td>7675.0</td>\n",
       "      <td>14900.0</td>\n",
       "      <td>29250.0</td>\n",
       "    </tr>\n",
       "    <tr>\n",
       "      <th>yellow</th>\n",
       "      <td>4.0</td>\n",
       "      <td>11496.250000</td>\n",
       "      <td>9026.719942</td>\n",
       "      <td>6000.0</td>\n",
       "      <td>7121.25</td>\n",
       "      <td>7495.0</td>\n",
       "      <td>11870.0</td>\n",
       "      <td>24995.0</td>\n",
       "    </tr>\n",
       "    <tr>\n",
       "      <th>purple</th>\n",
       "      <td>2.0</td>\n",
       "      <td>11700.000000</td>\n",
       "      <td>4525.483400</td>\n",
       "      <td>8500.0</td>\n",
       "      <td>10100.00</td>\n",
       "      <td>11700.0</td>\n",
       "      <td>13300.0</td>\n",
       "      <td>14900.0</td>\n",
       "    </tr>\n",
       "    <tr>\n",
       "      <th>custom</th>\n",
       "      <td>51.0</td>\n",
       "      <td>12595.686275</td>\n",
       "      <td>7962.964412</td>\n",
       "      <td>233.0</td>\n",
       "      <td>7987.50</td>\n",
       "      <td>8990.0</td>\n",
       "      <td>18350.0</td>\n",
       "      <td>33955.0</td>\n",
       "    </tr>\n",
       "    <tr>\n",
       "      <th>orange</th>\n",
       "      <td>2.0</td>\n",
       "      <td>14057.000000</td>\n",
       "      <td>12353.155467</td>\n",
       "      <td>5322.0</td>\n",
       "      <td>9689.50</td>\n",
       "      <td>14057.0</td>\n",
       "      <td>18424.5</td>\n",
       "      <td>22792.0</td>\n",
       "    </tr>\n",
       "    <tr>\n",
       "      <th>blue</th>\n",
       "      <td>171.0</td>\n",
       "      <td>14063.807018</td>\n",
       "      <td>7378.756143</td>\n",
       "      <td>2100.0</td>\n",
       "      <td>8997.50</td>\n",
       "      <td>12750.0</td>\n",
       "      <td>18991.5</td>\n",
       "      <td>33995.0</td>\n",
       "    </tr>\n",
       "    <tr>\n",
       "      <th>grey</th>\n",
       "      <td>184.0</td>\n",
       "      <td>14073.309783</td>\n",
       "      <td>7049.090853</td>\n",
       "      <td>1877.0</td>\n",
       "      <td>8990.00</td>\n",
       "      <td>13995.0</td>\n",
       "      <td>16625.0</td>\n",
       "      <td>32900.0</td>\n",
       "    </tr>\n",
       "    <tr>\n",
       "      <th>white</th>\n",
       "      <td>495.0</td>\n",
       "      <td>14400.349495</td>\n",
       "      <td>7861.400611</td>\n",
       "      <td>1.0</td>\n",
       "      <td>8591.50</td>\n",
       "      <td>13900.0</td>\n",
       "      <td>18992.5</td>\n",
       "      <td>33995.0</td>\n",
       "    </tr>\n",
       "    <tr>\n",
       "      <th>red</th>\n",
       "      <td>195.0</td>\n",
       "      <td>14658.497436</td>\n",
       "      <td>8285.750167</td>\n",
       "      <td>1750.0</td>\n",
       "      <td>7999.00</td>\n",
       "      <td>12950.0</td>\n",
       "      <td>21946.0</td>\n",
       "      <td>33990.0</td>\n",
       "    </tr>\n",
       "    <tr>\n",
       "      <th>NE</th>\n",
       "      <td>363.0</td>\n",
       "      <td>15174.093664</td>\n",
       "      <td>8100.887971</td>\n",
       "      <td>1.0</td>\n",
       "      <td>8969.00</td>\n",
       "      <td>13995.0</td>\n",
       "      <td>19963.5</td>\n",
       "      <td>33995.0</td>\n",
       "    </tr>\n",
       "    <tr>\n",
       "      <th>brown</th>\n",
       "      <td>36.0</td>\n",
       "      <td>15458.333333</td>\n",
       "      <td>9671.544123</td>\n",
       "      <td>3500.0</td>\n",
       "      <td>5373.75</td>\n",
       "      <td>15882.5</td>\n",
       "      <td>22995.0</td>\n",
       "      <td>32000.0</td>\n",
       "    </tr>\n",
       "    <tr>\n",
       "      <th>silver</th>\n",
       "      <td>192.0</td>\n",
       "      <td>17079.208333</td>\n",
       "      <td>7506.316011</td>\n",
       "      <td>1999.0</td>\n",
       "      <td>11950.00</td>\n",
       "      <td>16844.0</td>\n",
       "      <td>22125.0</td>\n",
       "      <td>34000.0</td>\n",
       "    </tr>\n",
       "    <tr>\n",
       "      <th>black</th>\n",
       "      <td>292.0</td>\n",
       "      <td>17318.828767</td>\n",
       "      <td>8255.459177</td>\n",
       "      <td>28.0</td>\n",
       "      <td>11000.00</td>\n",
       "      <td>17200.0</td>\n",
       "      <td>23995.0</td>\n",
       "      <td>34000.0</td>\n",
       "    </tr>\n",
       "  </tbody>\n",
       "</table>\n",
       "</div>"
      ],
      "text/plain": [
       "             count          mean           std     min       25%      50%  \\\n",
       "paint_color                                                                 \n",
       "green         40.0  11193.250000   9172.855775  2000.0   3800.00   7675.0   \n",
       "yellow         4.0  11496.250000   9026.719942  6000.0   7121.25   7495.0   \n",
       "purple         2.0  11700.000000   4525.483400  8500.0  10100.00  11700.0   \n",
       "custom        51.0  12595.686275   7962.964412   233.0   7987.50   8990.0   \n",
       "orange         2.0  14057.000000  12353.155467  5322.0   9689.50  14057.0   \n",
       "blue         171.0  14063.807018   7378.756143  2100.0   8997.50  12750.0   \n",
       "grey         184.0  14073.309783   7049.090853  1877.0   8990.00  13995.0   \n",
       "white        495.0  14400.349495   7861.400611     1.0   8591.50  13900.0   \n",
       "red          195.0  14658.497436   8285.750167  1750.0   7999.00  12950.0   \n",
       "NE           363.0  15174.093664   8100.887971     1.0   8969.00  13995.0   \n",
       "brown         36.0  15458.333333   9671.544123  3500.0   5373.75  15882.5   \n",
       "silver       192.0  17079.208333   7506.316011  1999.0  11950.00  16844.0   \n",
       "black        292.0  17318.828767   8255.459177    28.0  11000.00  17200.0   \n",
       "\n",
       "                 75%      max  \n",
       "paint_color                    \n",
       "green        14900.0  29250.0  \n",
       "yellow       11870.0  24995.0  \n",
       "purple       13300.0  14900.0  \n",
       "custom       18350.0  33955.0  \n",
       "orange       18424.5  22792.0  \n",
       "blue         18991.5  33995.0  \n",
       "grey         16625.0  32900.0  \n",
       "white        18992.5  33995.0  \n",
       "red          21946.0  33990.0  \n",
       "NE           19963.5  33995.0  \n",
       "brown        22995.0  32000.0  \n",
       "silver       22125.0  34000.0  \n",
       "black        23995.0  34000.0  "
      ]
     },
     "execution_count": 66,
     "metadata": {},
     "output_type": "execute_result"
    }
   ],
   "source": [
    "#Verificando com mais detalhes informações da função 'describe()'\n",
    "df_chevrolet_silverado_1500.groupby('paint_color')['price'].describe().sort_values(by = 'mean', ascending = True)"
   ]
  },
  {
   "cell_type": "code",
   "execution_count": 67,
   "id": "3de50495-1075-48ed-873b-8bc97107c951",
   "metadata": {},
   "outputs": [
    {
     "data": {
      "image/png": "[encoded data removed]",
      "text/plain": [
       "<Figure size 432x288 with 1 Axes>"
      ]
     },
     "metadata": {
      "needs_background": "light"
     },
     "output_type": "display_data"
    },
    {
     "data": {
      "image/png": "[encoded data removed]",
      "text/plain": [
       "<Figure size 432x288 with 1 Axes>"
      ]
     },
     "metadata": {
      "needs_background": "light"
     },
     "output_type": "display_data"
    },
    {
     "data": {
      "image/png": "[encoded data removed]",
      "text/plain": [
       "<Figure size 432x288 with 1 Axes>"
      ]
     },
     "metadata": {
      "needs_background": "light"
     },
     "output_type": "display_data"
    }
   ],
   "source": [
    "#Criando gráficos de dispersão para as variáveis 'vehicle_year','odometer' e 'condition'\n",
    "colunas_2 = ['vehicle_age','odometer','condition']\n",
    "for col in colunas_2:\n",
    "    df_chevrolet_silverado_1500.plot(x=col,y='price',kind = 'scatter')"
   ]
  },
  {
   "cell_type": "markdown",
   "id": "d05ae93c",
   "metadata": {},
   "source": [
    "<div class=\"alert alert-warning\">\n",
    "<strong>Comentário do revisor v1</strong>\n",
    "\n",
    "Muito boa a ideia da análise bivariada, excelente mesmo!\n",
    "\n",
    "Uma dica: É convencional utilizar a variável de interesse, no caso o preço, no eixo y.\n",
    "    \n",
    "Não tem nada de errado com os seus no entanto, estou comentando só para você reparar nos gráficos que possa analisar no futuro.\n",
    "</div>"
   ]
  },
  {
   "cell_type": "code",
   "execution_count": 68,
   "id": "1ea0a1fc-7f7d-440c-968c-5f2419cd7115",
   "metadata": {},
   "outputs": [],
   "source": [
    "#Criando tabela filtrada pelo 'model' 'ford f-150'\n",
    "df_ford_150 = filtered_df[filtered_df['model'] == 'ford f-150']"
   ]
  },
  {
   "cell_type": "code",
   "execution_count": 69,
   "id": "f90a749b-4e65-49c3-9f8c-00310643f5ec",
   "metadata": {},
   "outputs": [
    {
     "data": {
      "text/plain": [
       "<AxesSubplot:xlabel='transmission', ylabel='price'>"
      ]
     },
     "execution_count": 69,
     "metadata": {},
     "output_type": "execute_result"
    },
    {
     "data": {
      "image/png": "[encoded data removed]",
      "text/plain": [
       "<Figure size 432x288 with 1 Axes>"
      ]
     },
     "metadata": {
      "needs_background": "light"
     },
     "output_type": "display_data"
    }
   ],
   "source": [
    "#Criando gráfico para visualizar os diagramas de caixa para as variáveis da coluna 'transmission'\n",
    "sns.boxplot(x = 'transmission', y = 'price', data = df_ford_150)"
   ]
  },
  {
   "cell_type": "code",
   "execution_count": 70,
   "id": "7c69de00-6ef5-4d62-b882-424aaabc68bf",
   "metadata": {},
   "outputs": [
    {
     "data": {
      "text/html": [
       "<div>\n",
       "<style scoped>\n",
       "    .dataframe tbody tr th:only-of-type {\n",
       "        vertical-align: middle;\n",
       "    }\n",
       "\n",
       "    .dataframe tbody tr th {\n",
       "        vertical-align: top;\n",
       "    }\n",
       "\n",
       "    .dataframe thead th {\n",
       "        text-align: right;\n",
       "    }\n",
       "</style>\n",
       "<table border=\"1\" class=\"dataframe\">\n",
       "  <thead>\n",
       "    <tr style=\"text-align: right;\">\n",
       "      <th></th>\n",
       "      <th>count</th>\n",
       "      <th>mean</th>\n",
       "      <th>std</th>\n",
       "      <th>min</th>\n",
       "      <th>25%</th>\n",
       "      <th>50%</th>\n",
       "      <th>75%</th>\n",
       "      <th>max</th>\n",
       "    </tr>\n",
       "    <tr>\n",
       "      <th>transmission</th>\n",
       "      <th></th>\n",
       "      <th></th>\n",
       "      <th></th>\n",
       "      <th></th>\n",
       "      <th></th>\n",
       "      <th></th>\n",
       "      <th></th>\n",
       "      <th></th>\n",
       "    </tr>\n",
       "  </thead>\n",
       "  <tbody>\n",
       "    <tr>\n",
       "      <th>automatic</th>\n",
       "      <td>2515.0</td>\n",
       "      <td>13626.896620</td>\n",
       "      <td>8267.636461</td>\n",
       "      <td>1.0</td>\n",
       "      <td>6725.0</td>\n",
       "      <td>12795.0</td>\n",
       "      <td>19544.5</td>\n",
       "      <td>34500.0</td>\n",
       "    </tr>\n",
       "    <tr>\n",
       "      <th>manual</th>\n",
       "      <td>55.0</td>\n",
       "      <td>5630.054545</td>\n",
       "      <td>5764.375628</td>\n",
       "      <td>1.0</td>\n",
       "      <td>2972.5</td>\n",
       "      <td>3995.0</td>\n",
       "      <td>5622.5</td>\n",
       "      <td>32200.0</td>\n",
       "    </tr>\n",
       "    <tr>\n",
       "      <th>other</th>\n",
       "      <td>26.0</td>\n",
       "      <td>4414.500000</td>\n",
       "      <td>6206.506749</td>\n",
       "      <td>1.0</td>\n",
       "      <td>1.0</td>\n",
       "      <td>1.0</td>\n",
       "      <td>12770.0</td>\n",
       "      <td>13195.0</td>\n",
       "    </tr>\n",
       "  </tbody>\n",
       "</table>\n",
       "</div>"
      ],
      "text/plain": [
       "               count          mean          std  min     25%      50%  \\\n",
       "transmission                                                            \n",
       "automatic     2515.0  13626.896620  8267.636461  1.0  6725.0  12795.0   \n",
       "manual          55.0   5630.054545  5764.375628  1.0  2972.5   3995.0   \n",
       "other           26.0   4414.500000  6206.506749  1.0     1.0      1.0   \n",
       "\n",
       "                  75%      max  \n",
       "transmission                    \n",
       "automatic     19544.5  34500.0  \n",
       "manual         5622.5  32200.0  \n",
       "other         12770.0  13195.0  "
      ]
     },
     "execution_count": 70,
     "metadata": {},
     "output_type": "execute_result"
    }
   ],
   "source": [
    "#Verificando com mais detalhes informações da função 'describe()'\n",
    "df_ford_150.groupby('transmission')['price'].describe()"
   ]
  },
  {
   "cell_type": "code",
   "execution_count": 71,
   "id": "f176d44e-7d67-4e04-8d46-31e0b7d52670",
   "metadata": {},
   "outputs": [
    {
     "data": {
      "text/plain": [
       "<AxesSubplot:xlabel='paint_color', ylabel='price'>"
      ]
     },
     "execution_count": 71,
     "metadata": {},
     "output_type": "execute_result"
    },
    {
     "data": {
      "image/png": "[encoded data removed]",
      "text/plain": [
       "<Figure size 432x288 with 1 Axes>"
      ]
     },
     "metadata": {
      "needs_background": "light"
     },
     "output_type": "display_data"
    }
   ],
   "source": [
    "#Criando gráfico para visualizar os diagramas de caixa para as variáveis da coluna 'paint_color'\n",
    "sns.boxplot(x='paint_color',y = 'price', data = df_ford_150)"
   ]
  },
  {
   "cell_type": "code",
   "execution_count": 72,
   "id": "615ceb75-51b5-4ec2-9db5-f03195a9e39a",
   "metadata": {},
   "outputs": [
    {
     "data": {
      "text/html": [
       "<div>\n",
       "<style scoped>\n",
       "    .dataframe tbody tr th:only-of-type {\n",
       "        vertical-align: middle;\n",
       "    }\n",
       "\n",
       "    .dataframe tbody tr th {\n",
       "        vertical-align: top;\n",
       "    }\n",
       "\n",
       "    .dataframe thead th {\n",
       "        text-align: right;\n",
       "    }\n",
       "</style>\n",
       "<table border=\"1\" class=\"dataframe\">\n",
       "  <thead>\n",
       "    <tr style=\"text-align: right;\">\n",
       "      <th></th>\n",
       "      <th>count</th>\n",
       "      <th>mean</th>\n",
       "      <th>std</th>\n",
       "      <th>min</th>\n",
       "      <th>25%</th>\n",
       "      <th>50%</th>\n",
       "      <th>75%</th>\n",
       "      <th>max</th>\n",
       "    </tr>\n",
       "    <tr>\n",
       "      <th>paint_color</th>\n",
       "      <th></th>\n",
       "      <th></th>\n",
       "      <th></th>\n",
       "      <th></th>\n",
       "      <th></th>\n",
       "      <th></th>\n",
       "      <th></th>\n",
       "      <th></th>\n",
       "    </tr>\n",
       "  </thead>\n",
       "  <tbody>\n",
       "    <tr>\n",
       "      <th>purple</th>\n",
       "      <td>1.0</td>\n",
       "      <td>4000.000000</td>\n",
       "      <td>NaN</td>\n",
       "      <td>4000.0</td>\n",
       "      <td>4000.00</td>\n",
       "      <td>4000.0</td>\n",
       "      <td>4000.00</td>\n",
       "      <td>4000.0</td>\n",
       "    </tr>\n",
       "    <tr>\n",
       "      <th>green</th>\n",
       "      <td>74.0</td>\n",
       "      <td>8704.729730</td>\n",
       "      <td>7179.557668</td>\n",
       "      <td>1.0</td>\n",
       "      <td>3075.00</td>\n",
       "      <td>6247.5</td>\n",
       "      <td>11999.00</td>\n",
       "      <td>26750.0</td>\n",
       "    </tr>\n",
       "    <tr>\n",
       "      <th>custom</th>\n",
       "      <td>51.0</td>\n",
       "      <td>11622.235294</td>\n",
       "      <td>5790.855569</td>\n",
       "      <td>1500.0</td>\n",
       "      <td>9024.50</td>\n",
       "      <td>11900.0</td>\n",
       "      <td>11900.00</td>\n",
       "      <td>27900.0</td>\n",
       "    </tr>\n",
       "    <tr>\n",
       "      <th>brown</th>\n",
       "      <td>59.0</td>\n",
       "      <td>11714.169492</td>\n",
       "      <td>7307.211778</td>\n",
       "      <td>1500.0</td>\n",
       "      <td>5900.00</td>\n",
       "      <td>9950.0</td>\n",
       "      <td>15995.00</td>\n",
       "      <td>30000.0</td>\n",
       "    </tr>\n",
       "    <tr>\n",
       "      <th>red</th>\n",
       "      <td>312.0</td>\n",
       "      <td>12073.711538</td>\n",
       "      <td>8196.623966</td>\n",
       "      <td>500.0</td>\n",
       "      <td>5000.00</td>\n",
       "      <td>9900.0</td>\n",
       "      <td>18896.25</td>\n",
       "      <td>32000.0</td>\n",
       "    </tr>\n",
       "    <tr>\n",
       "      <th>white</th>\n",
       "      <td>693.0</td>\n",
       "      <td>12922.147186</td>\n",
       "      <td>7666.171318</td>\n",
       "      <td>1.0</td>\n",
       "      <td>6500.00</td>\n",
       "      <td>12500.0</td>\n",
       "      <td>17850.00</td>\n",
       "      <td>34379.0</td>\n",
       "    </tr>\n",
       "    <tr>\n",
       "      <th>blue</th>\n",
       "      <td>192.0</td>\n",
       "      <td>13428.531250</td>\n",
       "      <td>8580.052554</td>\n",
       "      <td>1.0</td>\n",
       "      <td>5971.25</td>\n",
       "      <td>12985.0</td>\n",
       "      <td>19124.25</td>\n",
       "      <td>34500.0</td>\n",
       "    </tr>\n",
       "    <tr>\n",
       "      <th>NE</th>\n",
       "      <td>445.0</td>\n",
       "      <td>13514.716854</td>\n",
       "      <td>8253.126431</td>\n",
       "      <td>1.0</td>\n",
       "      <td>6500.00</td>\n",
       "      <td>12500.0</td>\n",
       "      <td>19995.00</td>\n",
       "      <td>33995.0</td>\n",
       "    </tr>\n",
       "    <tr>\n",
       "      <th>grey</th>\n",
       "      <td>201.0</td>\n",
       "      <td>14516.194030</td>\n",
       "      <td>9102.736387</td>\n",
       "      <td>1.0</td>\n",
       "      <td>6900.00</td>\n",
       "      <td>13500.0</td>\n",
       "      <td>22250.00</td>\n",
       "      <td>32000.0</td>\n",
       "    </tr>\n",
       "    <tr>\n",
       "      <th>silver</th>\n",
       "      <td>200.0</td>\n",
       "      <td>14620.080000</td>\n",
       "      <td>8898.383800</td>\n",
       "      <td>1.0</td>\n",
       "      <td>6998.75</td>\n",
       "      <td>13248.5</td>\n",
       "      <td>20961.25</td>\n",
       "      <td>34500.0</td>\n",
       "    </tr>\n",
       "    <tr>\n",
       "      <th>black</th>\n",
       "      <td>361.0</td>\n",
       "      <td>15190.950139</td>\n",
       "      <td>8793.618272</td>\n",
       "      <td>1.0</td>\n",
       "      <td>7900.00</td>\n",
       "      <td>14999.0</td>\n",
       "      <td>22150.00</td>\n",
       "      <td>34500.0</td>\n",
       "    </tr>\n",
       "    <tr>\n",
       "      <th>yellow</th>\n",
       "      <td>6.0</td>\n",
       "      <td>16996.333333</td>\n",
       "      <td>13843.705525</td>\n",
       "      <td>3500.0</td>\n",
       "      <td>8595.00</td>\n",
       "      <td>10441.5</td>\n",
       "      <td>28947.00</td>\n",
       "      <td>34500.0</td>\n",
       "    </tr>\n",
       "    <tr>\n",
       "      <th>orange</th>\n",
       "      <td>1.0</td>\n",
       "      <td>22000.000000</td>\n",
       "      <td>NaN</td>\n",
       "      <td>22000.0</td>\n",
       "      <td>22000.00</td>\n",
       "      <td>22000.0</td>\n",
       "      <td>22000.00</td>\n",
       "      <td>22000.0</td>\n",
       "    </tr>\n",
       "  </tbody>\n",
       "</table>\n",
       "</div>"
      ],
      "text/plain": [
       "             count          mean           std      min       25%      50%  \\\n",
       "paint_color                                                                  \n",
       "purple         1.0   4000.000000           NaN   4000.0   4000.00   4000.0   \n",
       "green         74.0   8704.729730   7179.557668      1.0   3075.00   6247.5   \n",
       "custom        51.0  11622.235294   5790.855569   1500.0   9024.50  11900.0   \n",
       "brown         59.0  11714.169492   7307.211778   1500.0   5900.00   9950.0   \n",
       "red          312.0  12073.711538   8196.623966    500.0   5000.00   9900.0   \n",
       "white        693.0  12922.147186   7666.171318      1.0   6500.00  12500.0   \n",
       "blue         192.0  13428.531250   8580.052554      1.0   5971.25  12985.0   \n",
       "NE           445.0  13514.716854   8253.126431      1.0   6500.00  12500.0   \n",
       "grey         201.0  14516.194030   9102.736387      1.0   6900.00  13500.0   \n",
       "silver       200.0  14620.080000   8898.383800      1.0   6998.75  13248.5   \n",
       "black        361.0  15190.950139   8793.618272      1.0   7900.00  14999.0   \n",
       "yellow         6.0  16996.333333  13843.705525   3500.0   8595.00  10441.5   \n",
       "orange         1.0  22000.000000           NaN  22000.0  22000.00  22000.0   \n",
       "\n",
       "                  75%      max  \n",
       "paint_color                     \n",
       "purple        4000.00   4000.0  \n",
       "green        11999.00  26750.0  \n",
       "custom       11900.00  27900.0  \n",
       "brown        15995.00  30000.0  \n",
       "red          18896.25  32000.0  \n",
       "white        17850.00  34379.0  \n",
       "blue         19124.25  34500.0  \n",
       "NE           19995.00  33995.0  \n",
       "grey         22250.00  32000.0  \n",
       "silver       20961.25  34500.0  \n",
       "black        22150.00  34500.0  \n",
       "yellow       28947.00  34500.0  \n",
       "orange       22000.00  22000.0  "
      ]
     },
     "execution_count": 72,
     "metadata": {},
     "output_type": "execute_result"
    }
   ],
   "source": [
    "#Verificando com mais detalhes informações da função 'describe()'\n",
    "df_ford_150.groupby('paint_color')['price'].describe().sort_values(by = 'mean', ascending = True)"
   ]
  },
  {
   "cell_type": "code",
   "execution_count": 73,
   "id": "7e6fb048-2e5c-49f3-96e3-c2147a2f86ec",
   "metadata": {},
   "outputs": [
    {
     "data": {
      "image/png": "[encoded data removed]",
      "text/plain": [
       "<Figure size 432x288 with 1 Axes>"
      ]
     },
     "metadata": {
      "needs_background": "light"
     },
     "output_type": "display_data"
    },
    {
     "data": {
      "image/png": "[encoded data removed]",
      "text/plain": [
       "<Figure size 432x288 with 1 Axes>"
      ]
     },
     "metadata": {
      "needs_background": "light"
     },
     "output_type": "display_data"
    },
    {
     "data": {
      "image/png": "[encoded data removed]",
      "text/plain": [
       "<Figure size 432x288 with 1 Axes>"
      ]
     },
     "metadata": {
      "needs_background": "light"
     },
     "output_type": "display_data"
    }
   ],
   "source": [
    "#Criando gráficos de dispersão para as variáveis 'vehicle_year','odometer' e 'condition'\n",
    "colunas_3 = ['vehicle_year','odometer','condition']\n",
    "for col in colunas_2:\n",
    "    df_ford_150.plot(x='price',y=col,kind = 'scatter')"
   ]
  },
  {
   "cell_type": "markdown",
   "id": "969b2efc-ff34-47b6-a847-4c4ac09a24ff",
   "metadata": {},
   "source": [
    "Conclusão geral: \n",
    "\n",
    "Em primeiro lugar, verificamos se o dataframe possuia valores ausentes, o que de fato possuia. Para a coluna 'is_4wd' substituímos os valores ausentes por zero, que indicava que o carro não era 4x4. Para a coluna 'paint_color', substituímos os valores ausentes pela sigla 'NE', que indicava que o carro não tinha cor especificada. Para as demais variáveis numéricas, substituímos os valores ausentes pela média ou mediana dos valores por modelo. Em segundo lugar, fez se necessário a alteração do tipo de dados para algumas colunas. Em terceiro lugar, criamos novas colunas contendo o dia, o mês e ano em que a propaganda foi colocada, além de criar uma nova coluna com a idade do veículo, desde quando a propaganda foi colocada. E por fim, alteramos os valores string da coluna 'condition' por valores numéricos.\n",
    "\n",
    "Originalmente, algumas colunas continham valores atípicos, os quais foram eliminados, pois filtramos o dataframe em uma nova variável, a qual não continha estes valores atípicos. Eles estavam puxando a média para cima em diversas colunas, o que estava dificultando a análise da maior parte dos carros.\n",
    "Utilizamos o dataframe filtrado para fazer as demais análises necessárias. A primeira conclusão que chegamos é que os carros que são anormalmente vendidos mais rapidamente, são modelos que possuem um número significativamente maior de propagandas, em relação aos modelos que demoram mais tempo para serem vendidos. Ou seja, são modelos mais populares.\n",
    "A próxima conclusão é que os modelos mais populares são: \n",
    "\n",
    "- Chevrolet Silverado 1500\n",
    "- Ford F_150\n",
    "\n",
    "Para o Chevrolet Silverado 1500, os carros que possuem preço maior são carros de transmissão automática e que possuem menos kilometragem. \n",
    "Para o Ford F_150, os carros que possuem maior preço também são carros de transmissão automática, porém existem alguns carros de transmissão manual (valores atípicos) que possuem um preço mais elevado. Da mesma forma que Chevrolet Silverado, o Ford F_150 também tem o preço mais elevado quando possui menos kilometragem. Conclui-se então, a partir da análise dos dois modelos, que as variáveis que mais impactam o preço são a kilometragem ('odometer') e transmissão('transmission').\n",
    "Em relação a cores, para os dois modelos, as cores laranja, amarelo e roxo são menos predominantes, enquanto para o Chevrolet Silverado, as cores mais predominantes são preto, branco e prata. Já para o Ford F_150, as cores predominantes são branco, não especificado, preto e custom. "
   ]
  },
  {
   "cell_type": "markdown",
   "id": "b1bb356c",
   "metadata": {},
   "source": [
    "<div class=\"alert alert-info\">\n",
    "<strong>Comentário do estudante v1</strong>\n",
    "\n",
    "Não consegui avaliar se o impacto de kilometros e transmission foi homogêneo ou apenas para os dois veículos mais populares. Na minha cabeça, eu precisaria fazer mais análises para isso, não? É possível afirmar isso apenas com as análises que já fiz? \n",
    "    \n",
    "\n",
    "</div>"
   ]
  },
  {
   "cell_type": "markdown",
   "id": "0bc752f5",
   "metadata": {},
   "source": [
    "<div class=\"alert alert-danger\">\n",
    "<strong>Comentário do revisor v1</strong>\n",
    "\n",
    "Excelente conclusão para o passo 4, mas gostaria de uma conclusão mais geral com base em tudo o que vimos no projeto.\n",
    "Quais são as variáveis mais relevantes no que dis respeito ao preço? Esse impacto é homogêneo entre todos os modelos? Anos? Qual o impacto dos outliers?</div>"
   ]
  },
  {
   "cell_type": "markdown",
   "id": "e0d1781c",
   "metadata": {},
   "source": [
    "<div class=\"alert alert-info\">\n",
    "<strong>Comentário do revisor v1</strong>\n",
    "\n",
    "Excelente trabalho! Muito bom mesmo, especialmente no passo 4. \n",
    "\n",
    "Não há nenhum erro crítico por aqui, mas vale avaliar as caixas amarelas que deixei acima, ligadas a introdução que está ausente, ao nome de variáveis e organização dos gráficos.\n",
    "    \n",
    "O principal ponto que quero que você dê uma olhada é em relação a conclusão geral. Você já tem todo o material bruto, só amarre todas as suas descobertas no passo 5!\n",
    "    \n",
    "Estamos quase lá!\n",
    "    \n",
    "Até breve.\n",
    "    \n",
    "\n",
    "</div>"
   ]
  },
  {
   "cell_type": "markdown",
   "id": "76c9dfe9",
   "metadata": {},
   "source": [
    "\n",
    "<div class=\"alert alert-info\">\n",
    "<strong>Comentário do revisor v2</strong>\n",
    "\n",
    "Ótimo trabalho, obrigado pela sua dedicação, gostei muito do resultado final.\n",
    "\n",
    "Só para não passar batido, para aumentar o tamanho do gráfico você deve usar o \" plt.figure(figsize=(10, 12))\" , que já tinha escrito, mas deve ser antes de passar o plot que você quer... Logo na primeira linha, ai o gráfico aumenta de tamanho e você ajusta os outros parâmetros.\n",
    "    \n",
    "Sobre as comparações acredito que a forma mais simples de fazê-las seria comparando os resultados obtidos para as mais populares com os resultados gerais e vendo se são muito distantes.\n",
    "    \n",
    "Foi um prazer trabalhar contigo e até breve!\n",
    "\n",
    "</div>\n"
   ]
  },
  {
   "cell_type": "code",
   "execution_count": null,
   "id": "3092ed2d",
   "metadata": {},
   "outputs": [],
   "source": []
  }
 ],
 "metadata": {
  "kernelspec": {
   "display_name": "Python 3 (ipykernel)",
   "language": "python",
   "name": "python3"
  },
  "language_info": {
   "codemirror_mode": {
    "name": "ipython",
    "version": 3
   },
   "file_extension": ".py",
   "mimetype": "text/x-python",
   "name": "python",
   "nbconvert_exporter": "python",
   "pygments_lexer": "ipython3",
   "version": "3.9.5"
  },
  "toc": {
   "base_numbering": 1,
   "nav_menu": {},
   "number_sections": true,
   "sideBar": true,
   "skip_h1_title": true,
   "title_cell": "Table of Contents",
   "title_sidebar": "Contents",
   "toc_cell": false,
   "toc_position": {},
   "toc_section_display": true,
   "toc_window_display": false
  }
 },
 "nbformat": 4,
 "nbformat_minor": 5
}
